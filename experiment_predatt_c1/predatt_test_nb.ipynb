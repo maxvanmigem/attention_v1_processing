{
 "cells": [
  {
   "cell_type": "code",
   "execution_count": 2,
   "metadata": {},
   "outputs": [],
   "source": [
    "\n",
    "import numpy as np\n",
    "import os\n",
    "import random\n",
    "import copy\n",
    "import pandas\n",
    "import time\n",
    "import pickle\n",
    "from psychopy import monitors, visual, core, event\n"
   ]
  },
  {
   "cell_type": "code",
   "execution_count": null,
   "metadata": {},
   "outputs": [],
   "source": [
    "rng = np.random.default_rng(seed=None)\n",
    "linejitter_arr =(np.ones((30,30,2))- rng.random((30,30,2))*2)/80 \n",
    "# file_name = os.getcwd() + '/stim_jitter.npy'\n",
    "# np.save(file_name,linejitter_arr)\n",
    "\n"
   ]
  },
  {
   "cell_type": "code",
   "execution_count": null,
   "metadata": {},
   "outputs": [],
   "source": [
    "\n",
    "#options\n",
    "n_trials = 28 # per block\n",
    "n_odd = 7 # per block\n",
    "n_catch = 20 # per block\n",
    "\n",
    "n_blocks = 30 # per section has to be divisible by 4        \n",
    "n_sections = 2 # divides experiment into attended vs unattended sections \n",
    "\n",
    "list_seq = np.arange(4)\n",
    "rev_list = list_seq[::-1]\n",
    "forwared_stimpos_ls = np.roll(list_seq, -1, axis=0)\n",
    "backwared_stimpos_ls = np.roll(rev_list, 1+1, axis=0)\n",
    "isi_duration = .52\n",
    "stim_onset_jitter = .07\n",
    "iti_duration = .5"
   ]
  },
  {
   "cell_type": "code",
   "execution_count": 14,
   "metadata": {},
   "outputs": [],
   "source": [
    "with open('my_list.pkl', 'rb') as fp:   # Unpickling\n",
    "   b = pickle.load(fp)"
   ]
  },
  {
   "cell_type": "code",
   "execution_count": 13,
   "metadata": {},
   "outputs": [],
   "source": [
    "lost_stim = []\n",
    "for i in range(len(b)-5):\n",
    "    if b[i][1] == 99:\n",
    "        if b[i+5][1] !=99:\n",
    "            lost_stim.append(i+4)"
   ]
  }
 ],
 "metadata": {
  "kernelspec": {
   "display_name": "Python 3",
   "language": "python",
   "name": "python3"
  },
  "language_info": {
   "codemirror_mode": {
    "name": "ipython",
    "version": 3
   },
   "file_extension": ".py",
   "mimetype": "text/x-python",
   "name": "python",
   "nbconvert_exporter": "python",
   "pygments_lexer": "ipython3",
   "version": "3.8.18"
  }
 },
 "nbformat": 4,
 "nbformat_minor": 2
}
