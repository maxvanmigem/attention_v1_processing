{
 "cells": [
  {
   "cell_type": "code",
   "execution_count": 2,
   "metadata": {},
   "outputs": [],
   "source": [
    "\n",
    "import numpy as np\n",
    "import os\n",
    "import random\n",
    "import copy\n",
    "import pandas\n",
    "import time\n",
    "import pickle\n",
    "from psychopy import monitors, visual, core, event\n"
   ]
  },
  {
   "cell_type": "code",
   "execution_count": null,
   "metadata": {},
   "outputs": [],
   "source": [
    "rng = np.random.default_rng(seed=None)\n",
    "linejitter_arr =(np.ones((30,30,2))- rng.random((30,30,2))*2)/80 \n",
    "# file_name = os.getcwd() + '/stim_jitter.npy'\n",
    "# np.save(file_name,linejitter_arr)\n",
    "\n"
   ]
  },
  {
   "cell_type": "code",
   "execution_count": 5,
   "metadata": {},
   "outputs": [],
   "source": [
    "counter_start_quad = True\n",
    "localised_quad = 3\n",
    "if counter_start_quad:\n",
    "    counter_dict = {0:2,1:3,2:0,3:1}\n",
    "    localised_quad = counter_dict[localised_quad]"
   ]
  },
  {
   "cell_type": "code",
   "execution_count": null,
   "metadata": {},
   "outputs": [],
   "source": []
  }
 ],
 "metadata": {
  "kernelspec": {
   "display_name": "Python 3",
   "language": "python",
   "name": "python3"
  },
  "language_info": {
   "codemirror_mode": {
    "name": "ipython",
    "version": 3
   },
   "file_extension": ".py",
   "mimetype": "text/x-python",
   "name": "python",
   "nbconvert_exporter": "python",
   "pygments_lexer": "ipython3",
   "version": "3.9.18"
  }
 },
 "nbformat": 4,
 "nbformat_minor": 2
}
