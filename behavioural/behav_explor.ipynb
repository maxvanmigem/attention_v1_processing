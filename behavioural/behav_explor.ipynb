{
 "cells": [
  {
   "cell_type": "code",
   "execution_count": null,
   "metadata": {},
   "outputs": [],
   "source": [
    "import os, glob\n",
    "import numpy as np\n",
    "import pandas as pd\n",
    "import seaborn as sns\n",
    "from matplotlib import pyplot as plt\n",
    "from scipy import stats"
   ]
  },
  {
   "cell_type": "code",
   "execution_count": null,
   "metadata": {},
   "outputs": [],
   "source": [
    "# Import data file\n",
    "data_directory = 'C:/Users/mvmigem/Documents/data/project_1/raw_data/'\n",
    "dir_list = glob.glob(data_directory+'sub_*/behav/*.csv')\n"
   ]
  },
  {
   "cell_type": "code",
   "execution_count": null,
   "metadata": {},
   "outputs": [],
   "source": [
    "df_list = []\n",
    "for i in range(len(dir_list)):\n",
    "    behav_dat = pd.read_csv(dir_list[i])\n",
    "    df_list.append(behav_dat)\n",
    "\n",
    "big_df = pd.concat(df_list,ignore_index=True)"
   ]
  },
  {
   "cell_type": "code",
   "execution_count": null,
   "metadata": {},
   "outputs": [],
   "source": [
    "def calculate_subtraction(row):\n",
    "    if row['catch_trial'] != 0:\n",
    "        relevant_timepoint_col = f\"t_stim_{row['catch_trial']}\"\n",
    "        rt =  row['press_time'] - row[relevant_timepoint_col]\n",
    "        if rt > 3200:\n",
    "            return np.nan\n",
    "        return rt\n",
    "# Apply the function to create the subtraction column\n",
    "big_df['rt'] = big_df.apply(calculate_subtraction, axis=1)"
   ]
  },
  {
   "cell_type": "code",
   "execution_count": null,
   "metadata": {},
   "outputs": [],
   "source": [
    "\"\"\"\n",
    "***Aestetics***\n",
    "\"\"\"\n",
    "# load color palette\n",
    "my_palette = sns.color_palette().as_hex()\n",
    "sns.color_palette().as_hex()\n"
   ]
  },
  {
   "cell_type": "code",
   "execution_count": null,
   "metadata": {},
   "outputs": [],
   "source": [
    "subject_loc_quad = big_df.groupby('participant')['loc_quad'].first()\n",
    "\n",
    "ax = sns.histplot( x=subject_loc_quad,bins = 4, palette=my_palette[:4])\n",
    "\n",
    "tick_labels = ['1', '2', '3','4']  # Replace ... with additional labels\n",
    "plt.xticks(range(len(tick_labels)), tick_labels)\n",
    "ax.set_xlabel('located quadrant')\n",
    "\n",
    "plt.show()"
   ]
  },
  {
   "cell_type": "code",
   "execution_count": null,
   "metadata": {},
   "outputs": [],
   "source": [
    "palette=my_palette[:4]"
   ]
  },
  {
   "cell_type": "code",
   "execution_count": null,
   "metadata": {},
   "outputs": [],
   "source": [
    "ax = sns.barplot(data= big_df, x='attention',y='rt',\n",
    "                 edgecolor= 'black', palette= [my_palette[4], my_palette[5]],\n",
    "                errorbar='se', errwidth= 1.5,\n",
    "                capsize=.1,width=.6, linewidth=0.7)\n"
   ]
  },
  {
   "cell_type": "code",
   "execution_count": null,
   "metadata": {},
   "outputs": [],
   "source": [
    "# sub_grouped = big_df.groupby(['participant','attention'])['rt'].mean()\n",
    "# sub_grouped = sub_grouped.unstack()\n",
    "t_statistic, p_value = stats.ttest_rel(sub_grouped['attended'], sub_grouped['unattended'])"
   ]
  },
  {
   "cell_type": "code",
   "execution_count": null,
   "metadata": {},
   "outputs": [],
   "source": [
    "ax = sns.barplot(data= sub_grouped,\n",
    "                 edgecolor= 'black', palette= [my_palette[4], my_palette[5]],\n",
    "                errorbar='se', errwidth= 1.5,\n",
    "                capsize=.1,width=.6, linewidth=0.7)"
   ]
  }
 ],
 "metadata": {
  "kernelspec": {
   "display_name": "Python 3",
   "language": "python",
   "name": "python3"
  },
  "language_info": {
   "codemirror_mode": {
    "name": "ipython",
    "version": 3
   },
   "file_extension": ".py",
   "mimetype": "text/x-python",
   "name": "python",
   "nbconvert_exporter": "python",
   "pygments_lexer": "ipython3",
   "version": "3.9.18"
  }
 },
 "nbformat": 4,
 "nbformat_minor": 2
}
