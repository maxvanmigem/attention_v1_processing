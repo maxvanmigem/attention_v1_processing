{
 "cells": [
  {
   "cell_type": "code",
   "execution_count": 1,
   "metadata": {},
   "outputs": [],
   "source": [
    "import mne, os\n",
    "import pandas as pd\n",
    "\n",
    "destinantion_path = 'C:/Users/mvmigem/Documents/data/project_1/preprocessed/mastoid_ref_csv'"
   ]
  },
  {
   "cell_type": "code",
   "execution_count": 2,
   "metadata": {},
   "outputs": [
    {
     "name": "stdout",
     "output_type": "stream",
     "text": [
      "Opening raw data file /Users/mvmigem/Documents/data/project_1/preprocessed/mastoid_raw/main_clean_mastoidref_01-raw.fif...\n",
      "    Range : 0 ... 1465855 =      0.000 ...  2862.998 secs\n",
      "Ready.\n",
      "Reading c:\\Users\\mvmigem\\Documents\\data\\project_1\\preprocessed\\mastoid_ref\\main_eventset_mastoidref_01-epo.fif ...\n",
      "    Found the data of interest:\n",
      "        t =    -500.00 ...     500.00 ms\n",
      "        0 CTF compensation matrices available\n",
      "Adding metadata with 33 columns\n",
      "4189 matching events found\n",
      "No baseline correction applied\n",
      "0 projection items activated\n"
     ]
    }
   ],
   "source": [
    "for sub in range(1,2):\n",
    "    if sub == 20:\n",
    "        continue\n",
    "    cleaned_data_dir = '/Users/mvmigem/Documents/data/project_1/preprocessed/'\n",
    "    clean_raw_path = os.path.join(cleaned_data_dir,f'mastoid_raw/main_clean_mastoidref_{sub:02}-raw.fif')\n",
    "    clean_epo_path = os.path.join(cleaned_data_dir,f'mastoid_ref/main_eventset_mastoidref_{sub:02}-epo.fif')\n",
    "    raw = mne.io.read_raw_fif(clean_raw_path)\n",
    "    epochs = mne.read_epochs(clean_epo_path)\n",
    "    raw.info['bads'] = []\n",
    "    raw_df = raw.to_data_frame(long_format = False)\n",
    "    events = epochs.events\n",
    "    events_id = epochs.event_id\n",
    "    metadata = epochs.metadata\n",
    "\n",
    "    events_df = pd.DataFrame(events[:,0],columns=['sample'])\n",
    "    events_df['event_codes'] = events[:,2]\n",
    "    events_df['position'] = events_df['event_codes'] // 10\n",
    "    events_df['sequence'] = events_df['event_codes'] % 10\n",
    "    events_df['attention'] = metadata['attention'].reset_index(drop=True)\n",
    "    events_df['expectation'] = metadata['expected'].reset_index(drop=True)\n",
    "\n",
    "    # raw_csv_path = os.path.join(destinantion_path,f'raw_mastoidref_{sub:02}.csv')\n",
    "    # raw_df.to_csv(raw_csv_path,index = False)\n",
    "    # events_csv_path = os.path.join(destinantion_path,f'events_{sub:02}.csv')\n",
    "    # events_df.to_csv(events_csv_path,index = False)\n"
   ]
  },
  {
   "cell_type": "code",
   "execution_count": 3,
   "metadata": {},
   "outputs": [],
   "source": [
    "events_df = pd.DataFrame(events[:,0],columns=['sample'])\n",
    "events_df['event_codes'] = events[:,2]\n",
    "events_df['position'] = events_df['event_codes'] // 10\n",
    "events_df['sequence'] = events_df['event_codes'] % 10\n",
    "events_df['attention'] = metadata['attention'].reset_index(drop=True)\n",
    "events_df['expectation'] = metadata['expected'].reset_index(drop=True)"
   ]
  },
  {
   "cell_type": "code",
   "execution_count": 3,
   "metadata": {},
   "outputs": [],
   "source": [
    "epoch_df = epochs.to_data_frame()"
   ]
  }
 ],
 "metadata": {
  "kernelspec": {
   "display_name": "Python 3",
   "language": "python",
   "name": "python3"
  },
  "language_info": {
   "codemirror_mode": {
    "name": "ipython",
    "version": 3
   },
   "file_extension": ".py",
   "mimetype": "text/x-python",
   "name": "python",
   "nbconvert_exporter": "python",
   "pygments_lexer": "ipython3",
   "version": "3.9.18"
  }
 },
 "nbformat": 4,
 "nbformat_minor": 2
}
