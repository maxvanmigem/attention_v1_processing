{
 "cells": [
  {
   "cell_type": "code",
   "execution_count": 1,
   "metadata": {},
   "outputs": [],
   "source": [
    "\n",
    "import os\n",
    "import mne\n",
    "root_dir = 'C:/Users/mvmigem/Documents/data/project_1/'"
   ]
  },
  {
   "cell_type": "code",
   "execution_count": null,
   "metadata": {},
   "outputs": [],
   "source": [
    "\"\"\" \n",
    "Create folder for raw data\n",
    "\"\"\"\n",
    "n_sub = 40\n",
    "sub_dir_gro = ['eeg','behav']\n",
    "\n",
    "for i in range(1,n_sub+1):\n",
    "    sub_path  = os.path.join(root_dir, f'raw_data/sub_{i}')\n",
    "    for j in sub_dir_gro:\n",
    "        spec_sub_path = os.path.join(sub_path, j)\n",
    "        sub_dir  = os.makedirs(spec_sub_path)"
   ]
  },
  {
   "cell_type": "code",
   "execution_count": 6,
   "metadata": {},
   "outputs": [],
   "source": [
    "\"\"\" \n",
    "Create folder for subselected electrodes\n",
    "\"\"\"\n",
    "# Load the 10-20 montage\n",
    "montage = mne.channels.make_standard_montage('standard_1020')\n",
    "# Get the list of channel names\n",
    "electrode_names = montage.ch_names\n",
    "\n",
    "for i in electrode_names:\n",
    "    spec_path  = os.path.join(root_dir, f'preprocessed/mastoid_ref_csv/raw-{i}')\n",
    "    if not os.path.isdir(spec_path):\n",
    "        el_dir  = os.makedirs(spec_path)"
   ]
  },
  {
   "cell_type": "code",
   "execution_count": null,
   "metadata": {},
   "outputs": [],
   "source": [
    "\"\"\" \n",
    "Create folder for overlap corrected electrodes\n",
    "\"\"\"\n",
    "# Load the 10-20 montage\n",
    "montage = mne.channels.make_standard_montage('biosemi_64')\n",
    "# Get the list of channel names\n",
    "electrode_names = montage.ch_names\n",
    "\n",
    "for i in electrode_names:\n",
    "    spec_path  = os.path.join(root_dir, f'overlap_corrected/{i}')\n",
    "    if not os.path.isdir(spec_path):\n",
    "        el_dir  = os.makedirs(spec_path)"
   ]
  },
  {
   "cell_type": "code",
   "execution_count": 6,
   "metadata": {},
   "outputs": [
    {
     "name": "stdout",
     "output_type": "stream",
     "text": [
      "['Fp1', 'AF7', 'AF3', 'F1', 'F3', 'F5', 'F7', 'FT7', 'FC5', 'FC3', 'FC1', 'C1', 'C3', 'C5', 'T7', 'TP7', 'CP5', 'CP3', 'CP1', 'P1', 'P3', 'P5', 'P7', 'P9', 'PO7', 'PO3', 'O1', 'Iz', 'Oz', 'POz', 'Pz', 'CPz', 'Fpz', 'Fp2', 'AF8', 'AF4', 'AFz', 'Fz', 'F2', 'F4', 'F6', 'F8', 'FT8', 'FC6', 'FC4', 'FC2', 'FCz', 'Cz', 'C2', 'C4', 'C6', 'T8', 'TP8', 'CP6', 'CP4', 'CP2', 'P2', 'P4', 'P6', 'P8', 'P10', 'PO8', 'PO4', 'O2']\n"
     ]
    }
   ],
   "source": [
    "# Python code to save a list as a plain text file\n",
    "# Load the 10-20 montage\n",
    "montage = mne.channels.make_standard_montage('biosemi64')\n",
    "# Get the list of channel names\n",
    "electrode_names = montage.ch_names\n",
    "print(electrode_names)"
   ]
  }
 ],
 "metadata": {
  "kernelspec": {
   "display_name": "mne",
   "language": "python",
   "name": "python3"
  },
  "language_info": {
   "codemirror_mode": {
    "name": "ipython",
    "version": 3
   },
   "file_extension": ".py",
   "mimetype": "text/x-python",
   "name": "python",
   "nbconvert_exporter": "python",
   "pygments_lexer": "ipython3",
   "version": "3.9.18"
  }
 },
 "nbformat": 4,
 "nbformat_minor": 2
}
