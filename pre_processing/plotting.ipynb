{
 "cells": [
  {
   "cell_type": "code",
   "execution_count": 1,
   "metadata": {},
   "outputs": [],
   "source": [
    "import random\n",
    "import mne, os, glob\n",
    "import numpy as np\n",
    "import pandas as pd\n",
    "import seaborn as sns\n",
    "from matplotlib import pyplot as plt\n",
    "import random\n",
    "from mne.datasets import somato\n",
    "from mne.time_frequency import tfr_morlet\n",
    "%matplotlib qt "
   ]
  },
  {
   "cell_type": "code",
   "execution_count": null,
   "metadata": {},
   "outputs": [],
   "source": [
    "\"\"\" \n",
    "create data path\n",
    "\"\"\"\n",
    "# Create data paths \n",
    "sub = 4\n",
    "cleaned_data_dir = '/Users/mvmigem/Documents/data/project_1/preprocessed/mastoid_ref/'\n",
    "clean_epoch_path = os.path.join(cleaned_data_dir,f'main_eventset_mastoidref_{sub:02}-epo.fif')\n",
    "eps = mne.read_epochs(clean_epoch_path)"
   ]
  },
  {
   "cell_type": "code",
   "execution_count": 2,
   "metadata": {},
   "outputs": [
    {
     "name": "stdout",
     "output_type": "stream",
     "text": [
      "Reading c:\\Users\\mvmigem\\Documents\\data\\project_1\\preprocessed\\mastoid_ref\\main_eventset_mastoidref_01-epo.fif ...\n",
      "    Found the data of interest:\n",
      "        t =     -97.66 ...     500.00 ms\n",
      "        0 CTF compensation matrices available\n",
      "Adding metadata with 33 columns\n",
      "4189 matching events found\n",
      "No baseline correction applied\n",
      "0 projection items activated\n",
      "Reading c:\\Users\\mvmigem\\Documents\\data\\project_1\\preprocessed\\mastoid_ref\\main_eventset_mastoidref_02-epo.fif ...\n",
      "    Found the data of interest:\n",
      "        t =     -97.66 ...     500.00 ms\n",
      "        0 CTF compensation matrices available\n",
      "Adding metadata with 33 columns\n",
      "4196 matching events found\n",
      "No baseline correction applied\n",
      "0 projection items activated\n",
      "Reading c:\\Users\\mvmigem\\Documents\\data\\project_1\\preprocessed\\mastoid_ref\\main_eventset_mastoidref_03-epo.fif ...\n",
      "    Found the data of interest:\n",
      "        t =     -97.66 ...     500.00 ms\n",
      "        0 CTF compensation matrices available\n",
      "Adding metadata with 32 columns\n",
      "4188 matching events found\n",
      "No baseline correction applied\n",
      "0 projection items activated\n",
      "Reading c:\\Users\\mvmigem\\Documents\\data\\project_1\\preprocessed\\mastoid_ref\\main_eventset_mastoidref_04-epo.fif ...\n",
      "    Found the data of interest:\n",
      "        t =     -97.66 ...     500.00 ms\n",
      "        0 CTF compensation matrices available\n",
      "Adding metadata with 33 columns\n",
      "4200 matching events found\n",
      "No baseline correction applied\n",
      "0 projection items activated\n",
      "Reading c:\\Users\\mvmigem\\Documents\\data\\project_1\\preprocessed\\mastoid_ref\\main_eventset_mastoidref_05-epo.fif ...\n",
      "    Found the data of interest:\n",
      "        t =     -97.66 ...     500.00 ms\n",
      "        0 CTF compensation matrices available\n",
      "Adding metadata with 33 columns\n",
      "4054 matching events found\n",
      "No baseline correction applied\n",
      "0 projection items activated\n",
      "Reading c:\\Users\\mvmigem\\Documents\\data\\project_1\\preprocessed\\mastoid_ref\\main_eventset_mastoidref_06-epo.fif ...\n",
      "    Found the data of interest:\n",
      "        t =     -97.66 ...     500.00 ms\n",
      "        0 CTF compensation matrices available\n",
      "Adding metadata with 33 columns\n",
      "4200 matching events found\n",
      "No baseline correction applied\n",
      "0 projection items activated\n",
      "Reading c:\\Users\\mvmigem\\Documents\\data\\project_1\\preprocessed\\mastoid_ref\\main_eventset_mastoidref_07-epo.fif ...\n",
      "    Found the data of interest:\n",
      "        t =     -97.66 ...     500.00 ms\n",
      "        0 CTF compensation matrices available\n",
      "Adding metadata with 33 columns\n",
      "3918 matching events found\n",
      "No baseline correction applied\n",
      "0 projection items activated\n",
      "Reading c:\\Users\\mvmigem\\Documents\\data\\project_1\\preprocessed\\mastoid_ref\\main_eventset_mastoidref_08-epo.fif ...\n",
      "    Found the data of interest:\n",
      "        t =     -97.66 ...     500.00 ms\n",
      "        0 CTF compensation matrices available\n",
      "Adding metadata with 33 columns\n",
      "3506 matching events found\n",
      "No baseline correction applied\n",
      "0 projection items activated\n",
      "Reading c:\\Users\\mvmigem\\Documents\\data\\project_1\\preprocessed\\mastoid_ref\\main_eventset_mastoidref_09-epo.fif ...\n",
      "    Found the data of interest:\n",
      "        t =     -97.66 ...     500.00 ms\n",
      "        0 CTF compensation matrices available\n",
      "Adding metadata with 33 columns\n",
      "3425 matching events found\n",
      "No baseline correction applied\n",
      "0 projection items activated\n",
      "Reading c:\\Users\\mvmigem\\Documents\\data\\project_1\\preprocessed\\mastoid_ref\\main_eventset_mastoidref_10-epo.fif ...\n",
      "    Found the data of interest:\n",
      "        t =     -97.66 ...     500.00 ms\n",
      "        0 CTF compensation matrices available\n",
      "Adding metadata with 33 columns\n",
      "4200 matching events found\n",
      "No baseline correction applied\n",
      "0 projection items activated\n",
      "Reading c:\\Users\\mvmigem\\Documents\\data\\project_1\\preprocessed\\mastoid_ref\\main_eventset_mastoidref_11-epo.fif ...\n",
      "    Found the data of interest:\n",
      "        t =     -97.66 ...     500.00 ms\n",
      "        0 CTF compensation matrices available\n",
      "Adding metadata with 33 columns\n",
      "4195 matching events found\n",
      "No baseline correction applied\n",
      "0 projection items activated\n",
      "Reading c:\\Users\\mvmigem\\Documents\\data\\project_1\\preprocessed\\mastoid_ref\\main_eventset_mastoidref_12-epo.fif ...\n",
      "    Found the data of interest:\n",
      "        t =     -97.66 ...     500.00 ms\n",
      "        0 CTF compensation matrices available\n",
      "Adding metadata with 33 columns\n",
      "4194 matching events found\n",
      "No baseline correction applied\n",
      "0 projection items activated\n",
      "Reading c:\\Users\\mvmigem\\Documents\\data\\project_1\\preprocessed\\mastoid_ref\\main_eventset_mastoidref_13-epo.fif ...\n",
      "    Found the data of interest:\n",
      "        t =     -97.66 ...     500.00 ms\n",
      "        0 CTF compensation matrices available\n",
      "Adding metadata with 33 columns\n",
      "4200 matching events found\n",
      "No baseline correction applied\n",
      "0 projection items activated\n",
      "Reading c:\\Users\\mvmigem\\Documents\\data\\project_1\\preprocessed\\mastoid_ref\\main_eventset_mastoidref_14-epo.fif ...\n",
      "    Found the data of interest:\n",
      "        t =     -97.66 ...     500.00 ms\n",
      "        0 CTF compensation matrices available\n",
      "Adding metadata with 33 columns\n",
      "4190 matching events found\n",
      "No baseline correction applied\n",
      "0 projection items activated\n"
     ]
    },
    {
     "name": "stderr",
     "output_type": "stream",
     "text": [
      "C:\\Users\\mvmigem\\AppData\\Local\\Temp\\ipykernel_4192\\1887482926.py:8: RuntimeWarning: Concatenation of Annotations within Epochs is not supported yet. All annotations will be dropped.\n",
      "  eps = mne.concatenate_epochs(ep_list)\n"
     ]
    },
    {
     "name": "stdout",
     "output_type": "stream",
     "text": [
      "Adding metadata with 35 columns\n",
      "56855 matching events found\n",
      "Applying baseline correction (mode: mean)\n"
     ]
    }
   ],
   "source": [
    "ep_list = []\n",
    "for sub in range(1,15):\n",
    "    cleaned_data_dir = '/Users/mvmigem/Documents/data/project_1/preprocessed/mastoid_ref/'\n",
    "    clean_epoch_path = os.path.join(cleaned_data_dir,f'main_eventset_mastoidref_{sub:02}-epo.fif')\n",
    "    epochs = mne.read_epochs(clean_epoch_path)\n",
    "    epochs.info['bads']=[]\n",
    "    ep_list.append(epochs)\n",
    "eps = mne.concatenate_epochs(ep_list)"
   ]
  },
  {
   "cell_type": "code",
   "execution_count": 3,
   "metadata": {},
   "outputs": [],
   "source": [
    "\n",
    "\n",
    "\n",
    "# Divide the epoch file into sections based on metadata that can't be distinguished by event names\n",
    "# Drop catch trials\n",
    "epochs_nocatch = eps['catch_trial == 0']\n",
    "# Divide attention conditions\n",
    "epochs_attended = epochs_nocatch['attention == \"attended\"']\n",
    "epochs_unattended = epochs_nocatch['attention == \"unattended\"']\n",
    "# Divide by staring position\n",
    "epochs_start3 = epochs_nocatch['start_position == 2']\n",
    "epochs_start1 = epochs_nocatch['start_position == 0']\n",
    "epochs_start2 = epochs_nocatch['start_position == 1']\n",
    "epochs_start4 = epochs_nocatch['start_position == 3']\n",
    "# Divide unattended trials by start pos\n",
    "epochs_unattended_start3 = epochs_unattended['start_position == 2']\n",
    "epochs_unattended_start1 = epochs_unattended['start_position == 0']\n",
    "epochs_unattended_start2 = epochs_unattended['start_position == 1']\n",
    "epochs_unattended_start4 = epochs_unattended['start_position == 3']\n",
    "# Divide attented trials by start pos\n",
    "epochs_attended_start3 = epochs_attended['start_position == 2']\n",
    "epochs_attended_start1 = epochs_attended['start_position == 0']\n",
    "epochs_attended_start2 = epochs_attended['start_position == 1']\n",
    "epochs_attended_start4 = epochs_attended['start_position == 3']\n",
    "# Extra devision for the odd boys\n",
    "epochs_attended_reg = epochs_attended['expected ==\"regular\"']\n",
    "epochs_attended_odd = epochs_attended['expected == \"odd\"']\n",
    "epochs_unattended_reg = epochs_unattended['expected ==\"regular\"']\n",
    "epochs_unattended_odd = epochs_unattended['expected == \"odd\"']"
   ]
  },
  {
   "cell_type": "code",
   "execution_count": null,
   "metadata": {},
   "outputs": [],
   "source": [
    "big_meta = eps.metadata"
   ]
  },
  {
   "cell_type": "code",
   "execution_count": null,
   "metadata": {},
   "outputs": [],
   "source": [
    "\"\"\"\n",
    "Main pos topo\n",
    "\"\"\"\n",
    "times = np.linspace(0.03, 0.15, 7)\n",
    "vlim=(-6, 6)\n",
    "\n",
    "epochs_nocatch['pos1'].average().plot_topomap(ch_type=\"eeg\", times=times, colorbar=True, vlim=vlim)\n",
    "epochs_nocatch['pos2'].average().plot_topomap(ch_type=\"eeg\", times=times, colorbar=True, vlim=vlim)\n",
    "epochs_nocatch['pos3'].average().plot_topomap(ch_type=\"eeg\", times=times, colorbar=True, vlim=vlim)\n",
    "epochs_nocatch['pos4'].average().plot_topomap(ch_type=\"eeg\", times=times, colorbar=True, vlim=vlim)"
   ]
  },
  {
   "cell_type": "markdown",
   "metadata": {},
   "source": [
    "### Evoked plotting"
   ]
  },
  {
   "cell_type": "code",
   "execution_count": null,
   "metadata": {},
   "outputs": [],
   "source": [
    "\"\"\"\n",
    "Main pos individual channels\n",
    "\"\"\"\n",
    "evoked_pos1 = epochs_nocatch['pos1'].average()\n",
    "evoked_pos2 = epochs_nocatch['pos2'].average()\n",
    "evoked_pos3 = epochs_nocatch['pos3'].average()\n",
    "evoked_pos4 = epochs_nocatch['pos4'].average()\n",
    "\n",
    "evokeds_list = [evoked_pos1,evoked_pos2,evoked_pos3,evoked_pos4]\n",
    "conds = ('pos1','pos2','pos3','pos4')\n",
    "# conds = ('seq1','seq2','seq3','seq4')\n",
    "\n",
    "norm = dict(zip(conds, evokeds_list))"
   ]
  },
  {
   "cell_type": "code",
   "execution_count": null,
   "metadata": {},
   "outputs": [],
   "source": [
    "\"\"\" \n",
    "2: attention x predicion \n",
    "\"\"\"\n",
    "ep_reg_att = epochs_attended_start4['precedes_odd == 1']['pos3/seq2']\n",
    "ep_odd_att = epochs_attended_start2['pos3/seq2']\n",
    "ep_reg_unatt = epochs_unattended_start4['precedes_odd == 1']['pos3/seq2']\n",
    "ep_odd_unatt = epochs_unattended_start2['pos3/seq2']"
   ]
  },
  {
   "cell_type": "code",
   "execution_count": 4,
   "metadata": {},
   "outputs": [],
   "source": [
    "\"\"\" \n",
    "prediction independent plots\n",
    "\"\"\"\n",
    "\n",
    "ep_att_1 = epochs_attended_start1['seq']\n",
    "ep_att_2 = epochs_attended_start2['seq1']\n",
    "ep_att_3 = epochs_attended_start3['seq1']\n",
    "ep_att_4 = epochs_attended_start4['seq1']\n",
    "\n",
    "ep_unatt_1 = epochs_unattended_start1['seq']\n",
    "ep_unatt_2 = epochs_unattended_start2['seq1']\n",
    "ep_unatt_3 = epochs_unattended_start3['seq1']\n",
    "ep_unatt_4 = epochs_unattended_start4['seq1']"
   ]
  },
  {
   "cell_type": "code",
   "execution_count": null,
   "metadata": {},
   "outputs": [],
   "source": [
    "\"\"\"\n",
    "prediction v attention\n",
    "\"\"\"\n",
    "evoked_pos1 = ep_reg_att.average()\n",
    "evoked_pos2 = ep_odd_att.average()\n",
    "evoked_pos3 = ep_reg_unatt.average()\n",
    "evoked_pos4 = ep_odd_unatt.average()\n",
    "\n",
    "evokeds_list = [evoked_pos1,evoked_pos2,evoked_pos3,evoked_pos4]\n",
    "conds = ('att reg','att odd','unatt reg','unatt odd')\n",
    "norm = dict(zip(conds, evokeds_list))"
   ]
  },
  {
   "cell_type": "code",
   "execution_count": 5,
   "metadata": {},
   "outputs": [
    {
     "name": "stdout",
     "output_type": "stream",
     "text": [
      "NOTE: pick_channels() is a legacy function. New code should use inst.pick(...).\n",
      "NOTE: pick_channels() is a legacy function. New code should use inst.pick(...).\n",
      "NOTE: pick_channels() is a legacy function. New code should use inst.pick(...).\n",
      "NOTE: pick_channels() is a legacy function. New code should use inst.pick(...).\n",
      "NOTE: pick_channels() is a legacy function. New code should use inst.pick(...).\n",
      "NOTE: pick_channels() is a legacy function. New code should use inst.pick(...).\n",
      "NOTE: pick_channels() is a legacy function. New code should use inst.pick(...).\n",
      "NOTE: pick_channels() is a legacy function. New code should use inst.pick(...).\n"
     ]
    }
   ],
   "source": [
    "\"\"\"\n",
    "attention effect 1 in sequence\n",
    "\"\"\"\n",
    "evoked_pos1 = ep_att_1.average()\n",
    "evoked_pos2 = ep_att_2.average()\n",
    "evoked_pos3 = ep_att_3.average()\n",
    "evoked_pos4 = ep_att_4.average()\n",
    "evoked_pos5 = ep_unatt_1.average()\n",
    "evoked_pos6 = ep_unatt_2.average()\n",
    "evoked_pos7 = ep_unatt_3.average()\n",
    "evoked_pos8 = ep_unatt_4.average()\n",
    "\n",
    "evokeds_list = [evoked_pos1,evoked_pos2,evoked_pos3,evoked_pos4, evoked_pos5, evoked_pos6,evoked_pos7,evoked_pos8]\n",
    "conds = ('att 1','att 2','att 3','att 4','unatt 1','unatt 2','unatt 3','unatt 4')\n",
    "norm = dict(zip(conds, evokeds_list))"
   ]
  },
  {
   "cell_type": "code",
   "execution_count": null,
   "metadata": {},
   "outputs": [],
   "source": [
    "\"\"\" \n",
    "Pos 1 and 3\n",
    "\"\"\"\n",
    "\n",
    "evokeds_list = [evoked_pos1,evoked_pos3, evoked_pos5,evoked_pos7]\n",
    "conds = ('att 1','att 3','unatt 1','unatt 3')\n",
    "norm = dict(zip(conds, evokeds_list))"
   ]
  },
  {
   "cell_type": "code",
   "execution_count": null,
   "metadata": {},
   "outputs": [],
   "source": [
    "\"\"\" \n",
    "Pos 2 and 4\n",
    "\"\"\"\n",
    "\n",
    "evokeds_list = [evoked_pos2,evoked_pos4, evoked_pos6,evoked_pos8]\n",
    "conds = ('att 2','att 4','unatt 2','unatt 4')\n",
    "norm = dict(zip(conds, evokeds_list))"
   ]
  },
  {
   "cell_type": "code",
   "execution_count": null,
   "metadata": {},
   "outputs": [],
   "source": [
    "\"\"\"\n",
    "attention effect 1 in sequence\n",
    "\"\"\"\n",
    "\n",
    "evoked_pos1 = ep_att_4['trial < 211'].average()\n",
    "evoked_pos2 = ep_att_4['210 < trial < 421'].average()\n",
    "evoked_pos3 = ep_att_4['420 < trial < 631'].average()\n",
    "evoked_pos4 = ep_att_4['trial > 630'].average()\n",
    "\n",
    "evokeds_list = [evoked_pos1,evoked_pos2,evoked_pos3,evoked_pos4]\n",
    "conds = ('att 1','att 2','att 3','att 4')\n",
    "norm = dict(zip(conds, evokeds_list))"
   ]
  },
  {
   "cell_type": "code",
   "execution_count": null,
   "metadata": {},
   "outputs": [],
   "source": [
    "rrr= ep_att_4['210 < trial < 421']"
   ]
  },
  {
   "cell_type": "code",
   "execution_count": null,
   "metadata": {},
   "outputs": [],
   "source": [
    "\"\"\"\n",
    "sequence evaluation\n",
    "\"\"\"\n",
    "evoked_pos1 = ep_reg_p4s2.average()\n",
    "evoked_pos2 = ep_reg_p4s4.average()\n",
    "evoked_pos3 = ep_reg_p2s2.average()\n",
    "evoked_pos4 = ep_reg_p2s4.average()\n",
    "\n",
    "evokeds_list = [evoked_pos1,evoked_pos2,evoked_pos3,evoked_pos4]\n",
    "conds = ('p4s2','p4s4','p2s2','p2s4')\n",
    "norm = dict(zip(conds, evokeds_list))"
   ]
  },
  {
   "cell_type": "code",
   "execution_count": 6,
   "metadata": {},
   "outputs": [
    {
     "data": {
      "text/plain": [
       "[<Figure size 800x600 with 2 Axes>]"
      ]
     },
     "execution_count": 6,
     "metadata": {},
     "output_type": "execute_result"
    }
   ],
   "source": [
    "epoch_set1 = norm\n",
    "mne.viz.plot_compare_evokeds(epoch_set1, picks= 'POz', vlines=[0.05,0.1],ylim=dict(eeg=[-10, 10]))\n",
    "mne.viz.plot_compare_evokeds(epoch_set1, picks= 'Pz', vlines=[0.05,0.1],ylim=dict(eeg=[-10, 10]))\n",
    "mne.viz.plot_compare_evokeds(epoch_set1, picks= 'Oz', vlines=[0.05,0.1],ylim=dict(eeg=[-10, 10]))\n"
   ]
  },
  {
   "cell_type": "code",
   "execution_count": null,
   "metadata": {},
   "outputs": [],
   "source": [
    "mne.viz.plot_compare_evokeds(epoch_set1, picks= 'O1', vlines=[0.05,0.1],ylim=dict(eeg=[-6, 6]))\n",
    "mne.viz.plot_compare_evokeds(epoch_set1, picks= 'O2', vlines=[0.05,0.1],ylim=dict(eeg=[-6, 6]))"
   ]
  },
  {
   "cell_type": "code",
   "execution_count": null,
   "metadata": {},
   "outputs": [],
   "source": [
    "# mne.viz.plot_compare_evokeds(epoch_set1, picks= 'P1', vlines=[0.05,0.1],ylim=dict(eeg=[-6, 6]))\n",
    "mne.viz.plot_compare_evokeds(epoch_set1, picks= 'P2', vlines=[0.05,0.1],ylim=dict(eeg=[-6, 6]))"
   ]
  },
  {
   "cell_type": "code",
   "execution_count": null,
   "metadata": {},
   "outputs": [],
   "source": [
    "# mne.viz.plot_compare_evokeds(epoch_set1, picks= 'PO2', vlines=[0.05,0.1],ylim=dict(eeg=[-10, 10]))\n",
    "mne.viz.plot_compare_evokeds(epoch_set1, picks= 'PO3', vlines=[0.05,0.1],ylim=dict(eeg=[-10, 10]))"
   ]
  },
  {
   "cell_type": "code",
   "execution_count": null,
   "metadata": {},
   "outputs": [],
   "source": [
    "mne.viz.plot_compare_evokeds(epoch_set1, picks= 'Fz', vlines=[0.05,0.1],ylim=dict(eeg=[-6, 6]))\n",
    "mne.viz.plot_compare_evokeds(epoch_set1, picks= 'FCz', vlines=[0.05,0.1],ylim=dict(eeg=[-6, 6]))"
   ]
  },
  {
   "cell_type": "code",
   "execution_count": null,
   "metadata": {},
   "outputs": [],
   "source": [
    "\"\"\"\n",
    "\n",
    "\"\"\"\n",
    "times = np.linspace(0.03, 0.15, 7)\n",
    "vlim=(-6, 6)\n",
    "\n",
    "evoked_pos1.plot_topomap(ch_type=\"eeg\", times=times, colorbar=True, vlim=vlim)\n",
    "evoked_pos2.plot_topomap(ch_type=\"eeg\", times=times, colorbar=True, vlim=vlim)\n",
    "evoked_pos3.plot_topomap(ch_type=\"eeg\", times=times, colorbar=True, vlim=vlim)\n",
    "evoked_pos4.plot_topomap(ch_type=\"eeg\", times=times, colorbar=True, vlim=vlim)"
   ]
  },
  {
   "cell_type": "markdown",
   "metadata": {},
   "source": [
    "### Time course of c1 peaks and means"
   ]
  },
  {
   "cell_type": "code",
   "execution_count": 7,
   "metadata": {},
   "outputs": [],
   "source": [
    "\"\"\" \n",
    "Time course first sequence position\n",
    "\"\"\"\n",
    "# attended\n",
    "ep_df_att_1 = ep_att_1.metadata\n",
    "ep_df_att_1['poz_c1_mean'] = ep_att_1.crop(tmin=.07, tmax=.1).get_data(picks='POz').mean(axis=2)\n",
    "ep_df_att_2 = ep_att_2.metadata\n",
    "ep_df_att_2['poz_c1_mean'] = ep_att_2.crop(tmin=.07, tmax=.1).get_data(picks='POz').mean(axis=2)\n",
    "ep_df_att_3 = ep_att_3.metadata\n",
    "ep_df_att_3['poz_c1_mean'] = ep_att_3.crop(tmin=.07, tmax=.1).get_data(picks='POz').mean(axis=2)\n",
    "ep_df_att_4 = ep_att_4.metadata\n",
    "ep_df_att_4['poz_c1_mean'] = ep_att_4.crop(tmin=.07, tmax=.1).get_data(picks='POz').mean(axis=2)\n",
    "# unattend\n",
    "ep_df_unatt_1= ep_unatt_1.metadata\n",
    "ep_df_unatt_1['poz_c1_mean'] = ep_unatt_1.crop(tmin=.07, tmax=.1).get_data(picks='POz').mean(axis=2)\n",
    "ep_df_unatt_2 = ep_unatt_2.metadata\n",
    "ep_df_unatt_2['poz_c1_mean'] = ep_unatt_2.crop(tmin=.07, tmax=.1).get_data(picks='POz').mean(axis=2)\n",
    "ep_df_unatt_3 = ep_unatt_3.metadata\n",
    "ep_df_unatt_3['poz_c1_mean'] = ep_unatt_3.crop(tmin=.07, tmax=.1).get_data(picks='POz').mean(axis=2)\n",
    "ep_df_unatt_4 = ep_unatt_4.metadata\n",
    "ep_df_unatt_4['poz_c1_mean'] = ep_unatt_4.crop(tmin=.07, tmax=.1).get_data(picks='POz').mean(axis=2)\n"
   ]
  },
  {
   "cell_type": "code",
   "execution_count": null,
   "metadata": {},
   "outputs": [],
   "source": [
    "\"\"\" \n",
    "Time course\n",
    "\"\"\"\n",
    "position = ['pos1','pos2','pos3','pos4']\n",
    "condition = 'attention == \"attended\" & expected == \"regular\" & start_position == 2'\n",
    "pos1_win_data = c1_window_epochs[condition][position[0]].get_data(picks='POz')\n",
    "pos2_win_data = c1_window_epochs[condition][position[1]].get_data(picks='POz')\n",
    "pos3_win_data = c1_window_epochs[condition][position[2]].get_data(picks='POz')\n",
    "pos4_win_data = c1_window_epochs[condition][position[3]].get_data(picks='POz')"
   ]
  },
  {
   "cell_type": "code",
   "execution_count": null,
   "metadata": {},
   "outputs": [],
   "source": []
  },
  {
   "cell_type": "code",
   "execution_count": null,
   "metadata": {},
   "outputs": [],
   "source": [
    "mean_c1_1 = pos1_win_data.mean(axis=2).squeeze()\n",
    "mean_c1_2 = pos2_win_data.mean(axis=2).squeeze()\n",
    "mean_c1_3 = pos3_win_data.mean(axis=2).squeeze()\n",
    "mean_c1_4 = pos4_win_data.mean(axis=2).squeeze()\n",
    "\n",
    "max_c1_1 = pos1_win_data.max(axis=2).squeeze()\n",
    "max_c1_2 = pos2_win_data.max(axis=2).squeeze()\n",
    "max_c1_3 = pos3_win_data.max(axis=2).squeeze()\n",
    "max_c1_4 = pos4_win_data.max(axis=2).squeeze()\n",
    "\n",
    "mean_c1_list = [mean_c1_1,mean_c1_2,mean_c1_3,mean_c1_4]\n",
    "max_c1_list = [max_c1_1,max_c1_2,max_c1_3,max_c1_4]"
   ]
  },
  {
   "cell_type": "code",
   "execution_count": 10,
   "metadata": {},
   "outputs": [],
   "source": [
    "\"\"\"\n",
    "Plotting mean c1 voltage time wise\n",
    "\"\"\"\n",
    "plt.rcParams[\"figure.figsize\"] = [18,10]\n",
    "fig, axs = plt.subplots(4,2, sharey=True)\n",
    "\n",
    "sns.regplot(data = ep_df_att_1, x = 'trial', y = 'poz_c1_mean', ax = axs[0,0],scatter_kws={'s': 10, 'color': 'red'})\n",
    "sns.regplot(data = ep_df_unatt_1, x = 'trial', y = 'poz_c1_mean', ax = axs[1,0],scatter_kws={'s': 10, 'color': 'green'})\n",
    "sns.regplot(data = ep_df_att_2, x = 'trial', y = 'poz_c1_mean', ax = axs[0,1],scatter_kws={'s': 10, 'color': 'red'})\n",
    "sns.regplot(data = ep_df_unatt_2, x = 'trial', y = 'poz_c1_mean', ax = axs[1,1],scatter_kws={'s': 10, 'color': 'green'})\n",
    "sns.regplot(data = ep_df_att_3, x = 'trial', y = 'poz_c1_mean', ax = axs[2,1],scatter_kws={'s': 10, 'color': 'red'})\n",
    "sns.regplot(data = ep_df_unatt_3, x = 'trial', y = 'poz_c1_mean', ax = axs[3,1],scatter_kws={'s': 10, 'color': 'green'})\n",
    "sns.regplot(data = ep_df_att_4, x = 'trial', y = 'poz_c1_mean', ax = axs[2,0],scatter_kws={'s': 10, 'color': 'red'})\n",
    "sns.regplot(data = ep_df_unatt_4, x = 'trial', y = 'poz_c1_mean', ax = axs[3,0],scatter_kws={'s': 10, 'color': 'green'})\n",
    "plt.tight_layout()\n",
    "plt.show()\n",
    "# sns.regplot(x = np.arange(len(mean_c1_list[1])), y = mean_c1_list[1], ax=axs[0,1])\n",
    "# sns.regplot(x = np.arange(len(mean_c1_list[2])), y = mean_c1_list[2], ax=axs[1,1])\n",
    "# sns.regplot(x = np.arange(len(mean_c1_list[3])), y = mean_c1_list[3], ax=axs[1,0])\n",
    "\n"
   ]
  },
  {
   "cell_type": "code",
   "execution_count": null,
   "metadata": {},
   "outputs": [],
   "source": [
    "\"\"\"\n",
    "Plotting max c1 voltage time wise\n",
    "\"\"\"\n",
    "plt.rcParams[\"figure.figsize\"] = [18,10]\n",
    "fig, axs = plt.subplots(2,2, sharey=True)\n",
    "\n",
    "sns.regplot(x = np.arange(len(max_c1_list[0])), y = max_c1_list[0], ax=axs[0,0])\n",
    "sns.regplot(x = np.arange(len(max_c1_list[1])), y = max_c1_list[1], ax=axs[0,1])\n",
    "sns.regplot(x = np.arange(len(max_c1_list[2])), y = max_c1_list[2], ax=axs[1,1])\n",
    "sns.regplot(x = np.arange(len(max_c1_list[3])), y = max_c1_list[3], ax=axs[1,0])\n",
    "\n",
    "plt.suptitle('max values '+ condition)\n",
    "plt.tight_layout()\n",
    "plt.show()"
   ]
  },
  {
   "cell_type": "markdown",
   "metadata": {},
   "source": [
    "### Time frequency exploration"
   ]
  },
  {
   "cell_type": "code",
   "execution_count": null,
   "metadata": {},
   "outputs": [],
   "source": [
    "spec_first_att = epochs_attended['pos4/seq2'].average().compute_psd()\n",
    "spec_last_att = epochs_attended['seq3'].average().compute_psd()\n",
    "spec_first_unatt = epochs_unattended['seq1'].average().compute_psd()\n",
    "spec_last_unatt = epochs_unattended['seq3'].average().compute_psd()"
   ]
  },
  {
   "cell_type": "code",
   "execution_count": null,
   "metadata": {},
   "outputs": [],
   "source": [
    "spec_first_att.plot_topomap(ch_type=\"eeg\")\n",
    "spec_first_unatt.plot_topomap(ch_type=\"eeg\")"
   ]
  },
  {
   "cell_type": "code",
   "execution_count": null,
   "metadata": {},
   "outputs": [],
   "source": [
    "freqs = np.logspace(*np.log10([8, 13]), num=8)\n",
    "n_cycles = freqs / 3.0  # different number of cycle per frequency\n",
    "power, itc = tfr_morlet(\n",
    "    epochs_attended['pos4/seq2'],\n",
    "    freqs=freqs,\n",
    "    n_cycles=n_cycles,\n",
    "    use_fft=True,\n",
    "    return_itc=True,\n",
    "    n_jobs=None,\n",
    ")"
   ]
  },
  {
   "cell_type": "code",
   "execution_count": null,
   "metadata": {},
   "outputs": [],
   "source": [
    "\n",
    "power.plot([27], baseline=(-0.09, 0), mode=\"logratio\", title=power.ch_names[27])\n",
    "\n",
    "fig, axes = plt.subplots(1, 2, figsize=(7, 4), layout=\"constrained\")\n",
    "topomap_kw = dict(\n",
    "    ch_type=\"eeg\", tmin=0.09, tmax=0.5, baseline=(-0.09, 0), mode=\"logratio\", show=False\n",
    ")\n",
    "plot_dict = dict(Alpha=dict(fmin=8, fmax=13))\n",
    "for ax, (title, fmin_fmax) in zip(axes, plot_dict.items()):\n",
    "    power.plot_topomap(**fmin_fmax, axes=ax, **topomap_kw)\n",
    "    ax.set_title(title)"
   ]
  }
 ],
 "metadata": {
  "kernelspec": {
   "display_name": "Python 3",
   "language": "python",
   "name": "python3"
  },
  "language_info": {
   "codemirror_mode": {
    "name": "ipython",
    "version": 3
   },
   "file_extension": ".py",
   "mimetype": "text/x-python",
   "name": "python",
   "nbconvert_exporter": "python",
   "pygments_lexer": "ipython3",
   "version": "3.9.18"
  }
 },
 "nbformat": 4,
 "nbformat_minor": 2
}
