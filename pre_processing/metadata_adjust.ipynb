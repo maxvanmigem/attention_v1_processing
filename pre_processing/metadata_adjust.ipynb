{
 "cells": [
  {
   "cell_type": "code",
   "execution_count": 2,
   "metadata": {},
   "outputs": [],
   "source": [
    "import random\n",
    "import mne, os, glob\n",
    "import numpy as np\n",
    "import pandas as pd\n",
    "from matplotlib import pyplot as plt\n",
    "%matplotlib qt "
   ]
  },
  {
   "cell_type": "code",
   "execution_count": 5,
   "metadata": {},
   "outputs": [],
   "source": [
    "\"\"\" \n",
    "Loading data\n",
    "\"\"\"\n",
    "\n",
    "raw_data_dir = '/Users/mvmigem/Documents/data/project_1/raw_data/'\n",
    "cleaned_data_dir = '/Users/mvmigem/Documents/data/project_1/preprocessed/average_ref/'\n",
    "\n",
    "# Indicate which subjects are being done\n",
    "n_subs = 5\n",
    "subj_base = np.arange(2,n_subs+1) # list of participants that are going to be processed\n"
   ]
  },
  {
   "cell_type": "code",
   "execution_count": 6,
   "metadata": {},
   "outputs": [
    {
     "name": "stdout",
     "output_type": "stream",
     "text": [
      "Reading c:\\Users\\mvmigem\\Documents\\data\\project_1\\preprocessed\\average_ref\\unpaired\\main_clean_averageref_01-epo.fif ...\n",
      "    Found the data of interest:\n",
      "        t =    -500.00 ...     500.00 ms\n",
      "        0 CTF compensation matrices available\n",
      "Not setting metadata\n",
      "4189 matching events found\n",
      "No baseline correction applied\n",
      "0 projection items activated\n"
     ]
    }
   ],
   "source": [
    "sub = 1\n",
    "# Load behavioural data\n",
    "behav_path = os.path.join(raw_data_dir,f'sub_{sub}/behav/predatt_participant_{sub}.csv')\n",
    "behav_data = pd.read_csv(behav_path)\n",
    "# Load cleaned epoch file\n",
    "epoch_path = os.path.join(cleaned_data_dir,f'unpaired/main_clean_averageref_{sub:02}-epo.fif')\n",
    "epoch = mne.read_epochs(epoch_path)\n",
    "ep_events = epoch.events\n",
    "# Add the metadata and add a column for later regular trial subselection\n",
    "behav_data['precedes_odd'] = behav_data['expected'].shift(-1).eq('odd').astype(int)\n",
    "meta_data = pd.DataFrame(np.repeat(behav_data.values, 5, axis=0), columns=behav_data.columns)\n",
    "# epoch.metadata = meta_data"
   ]
  },
  {
   "cell_type": "code",
   "execution_count": 7,
   "metadata": {},
   "outputs": [],
   "source": [
    "check_missing = []\n",
    "for i in range(len(ep_events)-5):\n",
    "    if ep_events[i,2] == 99:\n",
    "        if  ep_events[i+5,2] != 99:\n",
    "            check_missing.append(i+5)"
   ]
  },
  {
   "cell_type": "code",
   "execution_count": 8,
   "metadata": {},
   "outputs": [],
   "source": [
    "meta_data = meta_data.iloc[:-5]\n",
    "# meta_data = meta_data.iloc[:-1] # pp1"
   ]
  },
  {
   "cell_type": "code",
   "execution_count": null,
   "metadata": {},
   "outputs": [],
   "source": [
    "meta_data = meta_data.iloc[1:]"
   ]
  },
  {
   "cell_type": "code",
   "execution_count": 10,
   "metadata": {},
   "outputs": [],
   "source": [
    "\n",
    "# there was an error that accidentaly dropped the last/first stims of  trials (prob due to block cuttoff)\n",
    "lost_stim = []\n",
    "shift_comp = 0\n",
    "for i in range(len(ep_events)-5):\n",
    "    if ep_events[i,2] == 99:\n",
    "        if ep_events[i +5,2] !=99:\n",
    "            lost_stim.append(i+5+ shift_comp)\n",
    "            shift_comp += 1"
   ]
  },
  {
   "cell_type": "code",
   "execution_count": 11,
   "metadata": {},
   "outputs": [],
   "source": [
    "meta_data = meta_data.drop(lost_stim)"
   ]
  },
  {
   "cell_type": "code",
   "execution_count": 14,
   "metadata": {},
   "outputs": [
    {
     "name": "stdout",
     "output_type": "stream",
     "text": [
      "Replacing existing metadata with 33 columns\n"
     ]
    }
   ],
   "source": [
    "epoch.metadata = meta_data\n",
    "epoch_save_path = os.path.join(cleaned_data_dir,f'main_eventset_averageref_{sub:02}-epo.fif')\n",
    "epoch.save(epoch_save_path)"
   ]
  },
  {
   "cell_type": "code",
   "execution_count": 13,
   "metadata": {},
   "outputs": [
    {
     "data": {
      "text/plain": [
       "69"
      ]
     },
     "execution_count": 13,
     "metadata": {},
     "output_type": "execute_result"
    }
   ],
   "source": [
    "epoch.info['nchan']"
   ]
  }
 ],
 "metadata": {
  "kernelspec": {
   "display_name": "Python 3",
   "language": "python",
   "name": "python3"
  },
  "language_info": {
   "codemirror_mode": {
    "name": "ipython",
    "version": 3
   },
   "file_extension": ".py",
   "mimetype": "text/x-python",
   "name": "python",
   "nbconvert_exporter": "python",
   "pygments_lexer": "ipython3",
   "version": "3.9.18"
  }
 },
 "nbformat": 4,
 "nbformat_minor": 2
}
