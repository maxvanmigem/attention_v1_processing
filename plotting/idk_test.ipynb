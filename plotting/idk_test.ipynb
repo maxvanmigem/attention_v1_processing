{
 "cells": [
  {
   "cell_type": "code",
   "execution_count": 5,
   "metadata": {},
   "outputs": [],
   "source": [
    "import os"
   ]
  },
  {
   "cell_type": "code",
   "execution_count": 7,
   "metadata": {},
   "outputs": [
    {
     "name": "stdout",
     "output_type": "stream",
     "text": [
      "Renamed: C:/Users/mvmigem/Documents/data/project_1/overlap_corrected/POz/corrected_evoked_01.csv to C:/Users/mvmigem/Documents/data/project_1/overlap_corrected/POz/corrected_POz_evoked_01.csv\n",
      "Renamed: C:/Users/mvmigem/Documents/data/project_1/overlap_corrected/POz/corrected_evoked_02.csv to C:/Users/mvmigem/Documents/data/project_1/overlap_corrected/POz/corrected_POz_evoked_02.csv\n",
      "Renamed: C:/Users/mvmigem/Documents/data/project_1/overlap_corrected/POz/corrected_evoked_03.csv to C:/Users/mvmigem/Documents/data/project_1/overlap_corrected/POz/corrected_POz_evoked_03.csv\n",
      "Renamed: C:/Users/mvmigem/Documents/data/project_1/overlap_corrected/POz/corrected_evoked_04.csv to C:/Users/mvmigem/Documents/data/project_1/overlap_corrected/POz/corrected_POz_evoked_04.csv\n",
      "Renamed: C:/Users/mvmigem/Documents/data/project_1/overlap_corrected/POz/corrected_evoked_05.csv to C:/Users/mvmigem/Documents/data/project_1/overlap_corrected/POz/corrected_POz_evoked_05.csv\n",
      "Renamed: C:/Users/mvmigem/Documents/data/project_1/overlap_corrected/POz/corrected_evoked_06.csv to C:/Users/mvmigem/Documents/data/project_1/overlap_corrected/POz/corrected_POz_evoked_06.csv\n",
      "Renamed: C:/Users/mvmigem/Documents/data/project_1/overlap_corrected/POz/corrected_evoked_07.csv to C:/Users/mvmigem/Documents/data/project_1/overlap_corrected/POz/corrected_POz_evoked_07.csv\n",
      "Renamed: C:/Users/mvmigem/Documents/data/project_1/overlap_corrected/POz/corrected_evoked_08.csv to C:/Users/mvmigem/Documents/data/project_1/overlap_corrected/POz/corrected_POz_evoked_08.csv\n",
      "Renamed: C:/Users/mvmigem/Documents/data/project_1/overlap_corrected/POz/corrected_evoked_09.csv to C:/Users/mvmigem/Documents/data/project_1/overlap_corrected/POz/corrected_POz_evoked_09.csv\n",
      "Renamed: C:/Users/mvmigem/Documents/data/project_1/overlap_corrected/POz/corrected_evoked_10.csv to C:/Users/mvmigem/Documents/data/project_1/overlap_corrected/POz/corrected_POz_evoked_10.csv\n",
      "Renamed: C:/Users/mvmigem/Documents/data/project_1/overlap_corrected/POz/corrected_evoked_11.csv to C:/Users/mvmigem/Documents/data/project_1/overlap_corrected/POz/corrected_POz_evoked_11.csv\n",
      "Renamed: C:/Users/mvmigem/Documents/data/project_1/overlap_corrected/POz/corrected_evoked_12.csv to C:/Users/mvmigem/Documents/data/project_1/overlap_corrected/POz/corrected_POz_evoked_12.csv\n",
      "Renamed: C:/Users/mvmigem/Documents/data/project_1/overlap_corrected/POz/corrected_evoked_13.csv to C:/Users/mvmigem/Documents/data/project_1/overlap_corrected/POz/corrected_POz_evoked_13.csv\n",
      "Renamed: C:/Users/mvmigem/Documents/data/project_1/overlap_corrected/POz/corrected_evoked_14.csv to C:/Users/mvmigem/Documents/data/project_1/overlap_corrected/POz/corrected_POz_evoked_14.csv\n",
      "Renamed: C:/Users/mvmigem/Documents/data/project_1/overlap_corrected/POz/corrected_evoked_15.csv to C:/Users/mvmigem/Documents/data/project_1/overlap_corrected/POz/corrected_POz_evoked_15.csv\n",
      "Renamed: C:/Users/mvmigem/Documents/data/project_1/overlap_corrected/POz/corrected_evoked_16.csv to C:/Users/mvmigem/Documents/data/project_1/overlap_corrected/POz/corrected_POz_evoked_16.csv\n",
      "Renamed: C:/Users/mvmigem/Documents/data/project_1/overlap_corrected/POz/corrected_evoked_17.csv to C:/Users/mvmigem/Documents/data/project_1/overlap_corrected/POz/corrected_POz_evoked_17.csv\n",
      "Renamed: C:/Users/mvmigem/Documents/data/project_1/overlap_corrected/POz/corrected_evoked_18.csv to C:/Users/mvmigem/Documents/data/project_1/overlap_corrected/POz/corrected_POz_evoked_18.csv\n",
      "Renamed: C:/Users/mvmigem/Documents/data/project_1/overlap_corrected/POz/corrected_evoked_19.csv to C:/Users/mvmigem/Documents/data/project_1/overlap_corrected/POz/corrected_POz_evoked_19.csv\n",
      "Renamed: C:/Users/mvmigem/Documents/data/project_1/overlap_corrected/POz/corrected_evoked_21.csv to C:/Users/mvmigem/Documents/data/project_1/overlap_corrected/POz/corrected_POz_evoked_21.csv\n",
      "Renamed: C:/Users/mvmigem/Documents/data/project_1/overlap_corrected/POz/corrected_evoked_22.csv to C:/Users/mvmigem/Documents/data/project_1/overlap_corrected/POz/corrected_POz_evoked_22.csv\n",
      "Renamed: C:/Users/mvmigem/Documents/data/project_1/overlap_corrected/POz/corrected_evoked_23.csv to C:/Users/mvmigem/Documents/data/project_1/overlap_corrected/POz/corrected_POz_evoked_23.csv\n",
      "Renamed: C:/Users/mvmigem/Documents/data/project_1/overlap_corrected/POz/corrected_evoked_24.csv to C:/Users/mvmigem/Documents/data/project_1/overlap_corrected/POz/corrected_POz_evoked_24.csv\n",
      "Renamed: C:/Users/mvmigem/Documents/data/project_1/overlap_corrected/POz/corrected_evoked_25.csv to C:/Users/mvmigem/Documents/data/project_1/overlap_corrected/POz/corrected_POz_evoked_25.csv\n"
     ]
    }
   ],
   "source": [
    "directory = \"C:/Users/mvmigem/Documents/data/project_1/overlap_corrected/POz/\"\n",
    "\n",
    "for filename in os.listdir(directory):\n",
    "    old_file_path = os.path.join(directory, filename)\n",
    "    \n",
    "    # Check if it is a file (not a directory)\n",
    "    if os.path.isfile(old_file_path):\n",
    "        # Create a new filename (modify as needed)\n",
    "        \n",
    "        new_filename = 'corrected_POz_'+ filename.split('corrected_')[1]\n",
    "        new_file_path = os.path.join(directory, new_filename)\n",
    "        \n",
    "        # Rename the file\n",
    "        os.rename(old_file_path, new_file_path)\n",
    "        print(f'Renamed: {old_file_path} to {new_file_path}')"
   ]
  }
 ],
 "metadata": {
  "kernelspec": {
   "display_name": "mne",
   "language": "python",
   "name": "python3"
  },
  "language_info": {
   "codemirror_mode": {
    "name": "ipython",
    "version": 3
   },
   "file_extension": ".py",
   "mimetype": "text/x-python",
   "name": "python",
   "nbconvert_exporter": "python",
   "pygments_lexer": "ipython3",
   "version": "3.9.18"
  }
 },
 "nbformat": 4,
 "nbformat_minor": 2
}
