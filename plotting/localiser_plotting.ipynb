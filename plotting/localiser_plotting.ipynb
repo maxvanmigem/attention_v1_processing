{
 "cells": [
  {
   "cell_type": "code",
   "execution_count": null,
   "metadata": {},
   "outputs": [],
   "source": [
    "# Import some libraries\n",
    "import os\n",
    "import numpy as np\n",
    "import mne\n",
    "import glob\n",
    "import os\n",
    "%matplotlib qt \n",
    "\n",
    "# define dir\n",
    "data_directory = 'C:/Users/mvmigem/Documents/data/project_1/preprocessed/localiser/'\n",
    "dir_list = glob.glob(data_directory+'*')"
   ]
  },
  {
   "cell_type": "code",
   "execution_count": null,
   "metadata": {},
   "outputs": [],
   "source": [
    "# Load epochs\n",
    "epochs = []\n",
    "for i, path in enumerate(dir_list):\n",
    "    epoch = mne.read_epochs(path)\n",
    "    epochs.append(epoch)"
   ]
  },
  {
   "cell_type": "code",
   "execution_count": null,
   "metadata": {},
   "outputs": [],
   "source": [
    "# Agragate over over all trials directly\n",
    "ep_pos1 = []\n",
    "ep_pos2 = []\n",
    "ep_pos3 = []\n",
    "ep_pos4 = []\n",
    "\n",
    "for i, epoch in enumerate(epochs):\n",
    "    ep_pos1.append(epoch['position1'])\n",
    "    ep_pos2.append(epoch['position2'])\n",
    "    ep_pos3.append(epoch['position3'])\n",
    "    ep_pos4.append(epoch['position4'])\n",
    "\n",
    "eps_pos1 = mne.concatenate_epochs(ep_pos1)\n",
    "eps_pos2 = mne.concatenate_epochs(ep_pos2)\n",
    "eps_pos3 = mne.concatenate_epochs(ep_pos3)\n",
    "eps_pos4 = mne.concatenate_epochs(ep_pos4)\n",
    "\n",
    "av_ep_pos1 = eps_pos1.average()\n",
    "av_ep_pos2 = eps_pos2.average()\n",
    "av_ep_pos3 = eps_pos3.average()\n",
    "av_ep_pos4 = eps_pos4.average()"
   ]
  },
  {
   "cell_type": "code",
   "execution_count": null,
   "metadata": {},
   "outputs": [],
   "source": [
    "# Agragate over subs first\n",
    "evokeds = []\n",
    "\n",
    "for i, ep in enumerate(epochs):\n",
    "    \n",
    "    evoked_pos1 = ep['position1'].average()\n",
    "    evoked_pos2 = ep['position2'].average()\n",
    "    evoked_pos3 = ep['position3'].average()\n",
    "    evoked_pos4 = ep['position4'].average()\n",
    "\n",
    "    evoked = [evoked_pos1, evoked_pos2, evoked_pos3, evoked_pos4]\n",
    "    evokeds.append(evoked)\n",
    "evokeds = np.array(evokeds)\n",
    "grand_av_pos1 = mne.grand_average(list(evokeds[:,0]))\n",
    "grand_av_pos2 = mne.grand_average(list(evokeds[:,1]))\n",
    "grand_av_pos3 = mne.grand_average(list(evokeds[:,2]))\n",
    "grand_av_pos4 = mne.grand_average(list(evokeds[:,3]))"
   ]
  },
  {
   "cell_type": "code",
   "execution_count": null,
   "metadata": {},
   "outputs": [],
   "source": [
    "el = evokeds[:,0]"
   ]
  },
  {
   "cell_type": "code",
   "execution_count": null,
   "metadata": {},
   "outputs": [],
   "source": [
    "# \n",
    "\n",
    "# grand_av_list = [grand_av_pos1,grand_av_pos2,grand_av_pos3,grand_av_pos4]\n",
    "grand_av_list = [av_ep_pos1, av_ep_pos2, av_ep_pos3, av_ep_pos4]\n",
    "conds = ('position1','position2','position3','position4')\n",
    "\n",
    "evoked_pos = dict(zip(conds, grand_av_list))\n",
    "\n",
    "# Plot it all\n",
    "epoch_set1 = evoked_pos\n",
    "scale = [-6, 6]\n",
    "# mne.viz.plot_compare_evokeds(epoch_set1, picks= 'Pz', vlines=[0.05,0.1],ylim=dict(eeg=scale))\n",
    "mne.viz.plot_compare_evokeds(epoch_set1, picks= 'POz', vlines=[0.05,0.1],ylim=dict(eeg=scale))\n",
    "# mne.viz.plot_compare_evokeds(epoch_set1, picks= 'Oz', vlines=[0.05,0.1],ylim=dict(eeg=scale))"
   ]
  },
  {
   "cell_type": "code",
   "execution_count": null,
   "metadata": {},
   "outputs": [],
   "source": [
    "grand_av_pos4.plot(picks=['P1','Pz','P2','PO3','POz','PO4','Oz','O1','O2',],highlight=[0.05,0.1])"
   ]
  },
  {
   "cell_type": "code",
   "execution_count": null,
   "metadata": {},
   "outputs": [],
   "source": [
    "times = np.linspace(0.05, 0.15, 5)\n",
    "grand_av_pos1.plot_joint(times=times)"
   ]
  },
  {
   "cell_type": "code",
   "execution_count": null,
   "metadata": {},
   "outputs": [],
   "source": [
    "times = np.linspace(0.05, 0.11, 5)\n",
    "# grand_av_pos1.plot_topomap(ch_type=\"eeg\", times=times, colorbar=True)\n",
    "# grand_av_pos2.plot_topomap(ch_type=\"eeg\", times=times, colorbar=True)\n",
    "# grand_av_pos3.plot_topomap(ch_type=\"eeg\", times=times, colorbar=True)\n",
    "grand_av_pos4.plot_topomap(ch_type=\"eeg\", times=times, colorbar=True)"
   ]
  }
 ],
 "metadata": {
  "kernelspec": {
   "display_name": "Python 3",
   "language": "python",
   "name": "python3"
  },
  "language_info": {
   "codemirror_mode": {
    "name": "ipython",
    "version": 3
   },
   "file_extension": ".py",
   "mimetype": "text/x-python",
   "name": "python",
   "nbconvert_exporter": "python",
   "pygments_lexer": "ipython3",
   "version": "3.9.18"
  }
 },
 "nbformat": 4,
 "nbformat_minor": 2
}
