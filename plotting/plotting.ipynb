{
 "cells": [
  {
   "cell_type": "code",
   "execution_count": null,
   "metadata": {},
   "outputs": [],
   "source": [
    "import random\n",
    "import mne, os, glob\n",
    "import numpy as np\n",
    "import pandas as pd\n",
    "import seaborn as sns\n",
    "from matplotlib import pyplot as plt\n",
    "import random\n",
    "from mne.datasets import somato\n",
    "from mne.time_frequency import tfr_morlet\n",
    "%matplotlib qt "
   ]
  },
  {
   "cell_type": "code",
   "execution_count": null,
   "metadata": {},
   "outputs": [],
   "source": [
    "\"\"\" \n",
    "create data path\n",
    "\"\"\"\n",
    "# Create data paths \n",
    "sub = 4\n",
    "cleaned_data_dir = '/Users/mvmigem/Documents/data/project_1/preprocessed/mastoid_ref/'\n",
    "clean_epoch_path = os.path.join(cleaned_data_dir,f'main_eventset_mastoidref_{sub:02}-epo.fif')\n",
    "eps = mne.read_epochs(clean_epoch_path)"
   ]
  },
  {
   "cell_type": "code",
   "execution_count": null,
   "metadata": {},
   "outputs": [],
   "source": [
    "ree = eps.metadata"
   ]
  },
  {
   "cell_type": "code",
   "execution_count": null,
   "metadata": {},
   "outputs": [],
   "source": [
    "ep_list = []\n",
    "ep_group1 = []\n",
    "ep_group2 = []\n",
    "ep_group3 = []\n",
    "ep_group4 = []\n",
    "\n",
    "for sub in range(1,22):\n",
    "    if sub == 20:\n",
    "        continue\n",
    "    cleaned_data_dir = '/Users/mvmigem/Documents/data/project_1/preprocessed/mastoid_ref/'\n",
    "    clean_epoch_path = os.path.join(cleaned_data_dir,f'main_eventset_mastoidref_{sub:02}-epo.fif')\n",
    "    epochs = mne.read_epochs(clean_epoch_path)\n",
    "    epochs.info['bads']=[]\n",
    "    ep_list.append(epochs)\n",
    "\n",
    "    if epochs.metadata['loc_quad'].iloc[0] == 0:\n",
    "        ep_group1.append(epochs)\n",
    "    elif epochs.metadata['loc_quad'].iloc[0] == 1:\n",
    "        ep_group2.append(epochs)\n",
    "    elif epochs.metadata['loc_quad'].iloc[0] == 2:\n",
    "        ep_group3.append(epochs)\n",
    "    elif epochs.metadata['loc_quad'].iloc[0] == 3:\n",
    "        ep_group4.append(epochs)\n",
    "\n",
    "eps = mne.concatenate_epochs(ep_list)"
   ]
  },
  {
   "cell_type": "code",
   "execution_count": null,
   "metadata": {},
   "outputs": [],
   "source": [
    "\n",
    "\n",
    "\n",
    "# Divide the epoch file into sections based on metadata that can't be distinguished by event names\n",
    "# Drop catch trials\n",
    "epochs_nocatch = eps.copy()['catch_trial == 0']\n",
    "# # Divide attention conditions\n",
    "# epochs_attended = epochs_nocatch['attention == \"attended\"']\n",
    "# epochs_unattended = epochs_nocatch['attention == \"unattended\"']\n",
    "# # Divide by staring position\n",
    "# epochs_start3 = epochs_nocatch['start_position == 2']\n",
    "# epochs_start1 = epochs_nocatch['start_position == 0']\n",
    "# epochs_start2 = epochs_nocatch['start_position == 1']\n",
    "# epochs_start4 = epochs_nocatch['start_position == 3']\n",
    "# # Divide unattended trials by start pos\n",
    "# epochs_unattended_start3 = epochs_unattended['start_position == 2']\n",
    "# epochs_unattended_start1 = epochs_unattended['start_position == 0']\n",
    "# epochs_unattended_start2 = epochs_unattended['start_position == 1']\n",
    "# epochs_unattended_start4 = epochs_unattended['start_position == 3']\n",
    "# # Divide attented trials by start pos\n",
    "# epochs_attended_start3 = epochs_attended['start_position == 2']\n",
    "# epochs_attended_start1 = epochs_attended['start_position == 0']\n",
    "# epochs_attended_start2 = epochs_attended['start_position == 1']\n",
    "# epochs_attended_start4 = epochs_attended['start_position == 3']\n",
    "# # Extra devision for the odd boys\n",
    "# epochs_attended_reg = epochs_attended['expected ==\"regular\"']\n",
    "# epochs_attended_odd = epochs_attended['expected == \"odd\"']\n",
    "# epochs_unattended_reg = epochs_unattended['expected ==\"regular\"']\n",
    "# epochs_unattended_odd = epochs_unattended['expected == \"odd\"']"
   ]
  },
  {
   "cell_type": "code",
   "execution_count": null,
   "metadata": {},
   "outputs": [],
   "source": [
    "big_meta = eps.metadata"
   ]
  },
  {
   "cell_type": "code",
   "execution_count": null,
   "metadata": {},
   "outputs": [],
   "source": [
    "\"\"\"\n",
    "Main pos topo\n",
    "\"\"\"\n",
    "times = np.linspace(0.03, 0.15, 7)\n",
    "vlim=(-6, 6)\n",
    "\n",
    "epochs_nocatch['pos1'].average().plot_topomap(ch_type=\"eeg\", times=times, colorbar=True, vlim=vlim)\n",
    "epochs_nocatch['pos2'].average().plot_topomap(ch_type=\"eeg\", times=times, colorbar=True, vlim=vlim)\n",
    "epochs_nocatch['pos3'].average().plot_topomap(ch_type=\"eeg\", times=times, colorbar=True, vlim=vlim)\n",
    "epochs_nocatch['pos4'].average().plot_topomap(ch_type=\"eeg\", times=times, colorbar=True, vlim=vlim)"
   ]
  },
  {
   "cell_type": "markdown",
   "metadata": {},
   "source": [
    "### Evoked plotting"
   ]
  },
  {
   "cell_type": "code",
   "execution_count": null,
   "metadata": {},
   "outputs": [],
   "source": [
    "\"\"\"\n",
    "Main pos individual channels\n",
    "\"\"\"\n",
    "evoked_pos1 = epochs_nocatch['pos1'].average()\n",
    "evoked_pos2 = epochs_nocatch['pos2'].average()\n",
    "evoked_pos3 = epochs_nocatch['pos3'].average()\n",
    "evoked_pos4 = epochs_nocatch['pos4'].average()\n",
    "\n",
    "evokeds_list = [evoked_pos1,evoked_pos2,evoked_pos3,evoked_pos4]\n",
    "conds = ('pos1','pos2','pos3','pos4')\n",
    "# conds = ('seq1','seq2','seq3','seq4')\n",
    "\n",
    "norm = dict(zip(conds, evokeds_list))"
   ]
  },
  {
   "cell_type": "code",
   "execution_count": null,
   "metadata": {},
   "outputs": [],
   "source": [
    "\"\"\"\n",
    "prediction v attention\n",
    "\"\"\"\n",
    "evoked_pos1 = ep_reg_att.average()\n",
    "evoked_pos2 = ep_odd_att.average()\n",
    "evoked_pos3 = ep_reg_unatt.average()\n",
    "evoked_pos4 = ep_odd_unatt.average()\n",
    "\n",
    "evokeds_list = [evoked_pos1,evoked_pos2,evoked_pos3,evoked_pos4]\n",
    "conds = ('att reg','att odd','unatt reg','unatt odd')\n",
    "norm = dict(zip(conds, evokeds_list))"
   ]
  },
  {
   "cell_type": "code",
   "execution_count": null,
   "metadata": {},
   "outputs": [],
   "source": [
    "# Event selection for prediction effects\n",
    "\n",
    "# Remove catch\n",
    "epochs_nocatch = eps.copy()['catch_trial == 0']['pos4']\n",
    "# Select second stim of trial\n",
    "epochs_stim2 = epochs_nocatch['seq2']\n",
    "# Regular vs odd\n",
    "epochs_odd = epochs_stim2['expected == \"odd\"']\n",
    "epochs_reg = epochs_stim2['expected == \"regular\"']['precedes_odd == 1']\n",
    "# Attention\n",
    "ep_odd_att = epochs_odd['attention == \"attended\"']\n",
    "ep_odd_unatt = epochs_odd['attention == \"unattended\"']\n",
    "ep_reg_att = epochs_reg['attention == \"attended\"']\n",
    "ep_reg_unatt = epochs_reg['attention == \"unattended\"']\n"
   ]
  },
  {
   "cell_type": "code",
   "execution_count": null,
   "metadata": {},
   "outputs": [],
   "source": [
    "\"\"\"\n",
    "prediction v attention per pp\n",
    "\"\"\"\n",
    "\n",
    "group_1 = []\n",
    "group_3 = []\n",
    "group_4 = []\n",
    "group_1_pp = []\n",
    "group_3_pp = []\n",
    "group_4_pp = []\n",
    "\n",
    "for sub in range(1,18):\n",
    "\n",
    "    evoked_pos1 = ep_reg_att[f'participant == {sub}'].average()\n",
    "    evoked_pos2 = ep_odd_att[f'participant == {sub}'].average()\n",
    "    evoked_pos3 = ep_reg_unatt[f'participant == {sub}'].average()\n",
    "    evoked_pos4 = ep_odd_unatt[f'participant == {sub}'].average()\n",
    "\n",
    "    evokeds_list = [evoked_pos1,evoked_pos2,evoked_pos3,evoked_pos4]\n",
    "    conds = ('att reg','att odd','unatt reg','unatt odd')\n",
    "    norm = dict(zip(conds, evokeds_list))\n",
    "    if all(epochs_nocatch[f'participant == {sub}'].metadata[\"loc_quad\"]==0):\n",
    "        group_1.append(norm)\n",
    "        group_1_pp.append(sub)\n",
    "    elif all(epochs_nocatch[f'participant == {sub}'].metadata[\"loc_quad\"]==2):\n",
    "        group_3.append(norm)\n",
    "        group_3_pp.append(sub)\n",
    "    elif all(epochs_nocatch[f'participant == {sub}'].metadata[\"loc_quad\"]==3):\n",
    "        group_4.append(norm)\n",
    "        group_4_pp.append(sub)\n",
    "\n",
    "        "
   ]
  },
  {
   "cell_type": "code",
   "execution_count": null,
   "metadata": {},
   "outputs": [],
   "source": [
    "all(ep_reg_att[f'participant == {4}'].metadata[\"loc_quad\"]==3)"
   ]
  },
  {
   "cell_type": "code",
   "execution_count": null,
   "metadata": {},
   "outputs": [],
   "source": [
    "\"\"\" \n",
    "attention effect 1 in sequence ( alternative method)\n",
    "\"\"\"\n",
    "\n"
   ]
  },
  {
   "cell_type": "code",
   "execution_count": null,
   "metadata": {},
   "outputs": [],
   "source": [
    "\"\"\"\n",
    "attention effect 1 in sequence\n",
    "\"\"\"\n",
    "seq1_attcond_evokeds = np.empty((7,4,2,3),dtype='object') # [sub,pos,att,group]\n",
    "\n",
    "\n",
    "for i, ep in enumerate(ep_group1):\n",
    "\n",
    "    seq1_attcond_evokeds[i,1,0,0] = ep['pos2/seq1'][\"attention == 'attended'\"].average()\n",
    "    seq1_attcond_evokeds[i,3,0,0] = ep['pos4/seq1'][\"attention == 'attended'\"].average()\n",
    "\n",
    "    seq1_attcond_evokeds[i,1,1,0] = ep['pos2/seq1'][\"attention == 'unattended'\"].average()\n",
    "    seq1_attcond_evokeds[i,3,1,0] = ep['pos4/seq1'][\"attention == 'unattended'\"].average()\n",
    "\n",
    "for i ,ep in enumerate(ep_group3):\n",
    "\n",
    "    seq1_attcond_evokeds[i,1,0,1] = ep['pos2/seq1'][\"attention == 'attended'\"].average()\n",
    "    seq1_attcond_evokeds[i,3,0,1] = ep['pos4/seq1'][\"attention == 'attended'\"].average()\n",
    "\n",
    "    seq1_attcond_evokeds[i,1,1,1] = ep['pos2/seq1'][\"attention == 'unattended'\"].average()\n",
    "    seq1_attcond_evokeds[i,3,1,1] = ep['pos4/seq1'][\"attention == 'unattended'\"].average()\n",
    "\n",
    "for i,ep in enumerate(ep_group4):\n",
    "\n",
    "    seq1_attcond_evokeds[i,0,0,2] = ep['pos1/seq'][\"attention == 'attended'\"].average()\n",
    "    seq1_attcond_evokeds[i,2,0,2] = ep['pos3/seq1'][\"attention == 'attended'\"].average()\n",
    "\n",
    "    seq1_attcond_evokeds[i,0,1,2] = ep['pos1/seq'][\"attention == 'unattended'\"].average()\n",
    "    seq1_attcond_evokeds[i,2,1,2] = ep['pos3/seq1'][\"attention == 'unattended'\"].average()\n"
   ]
  },
  {
   "cell_type": "code",
   "execution_count": null,
   "metadata": {},
   "outputs": [],
   "source": [
    "\n",
    "group1_pos2_att = mne.grand_average(list(seq1_attcond_evokeds[:5,1,0,0]))\n",
    "group1_pos2_unatt = mne.grand_average(list(seq1_attcond_evokeds[:5,1,1,0]))\n",
    "group1_pos4_att = mne.grand_average(list(seq1_attcond_evokeds[:5,3,0,0]))\n",
    "group1_pos4_unatt = mne.grand_average(list(seq1_attcond_evokeds[:5,3,1,0]))\n",
    "\n",
    "group3_pos2_att = mne.grand_average(list(seq1_attcond_evokeds[:,1,0,1]))\n",
    "group3_pos2_unatt = mne.grand_average(list(seq1_attcond_evokeds[:,1,1,1]))\n",
    "group3_pos4_att = mne.grand_average(list(seq1_attcond_evokeds[:,3,0,1]))\n",
    "group3_pos4_unatt = mne.grand_average(list(seq1_attcond_evokeds[:,3,1,1]))\n",
    "\n",
    "group4_pos1_att = mne.grand_average(list(seq1_attcond_evokeds[:,0,0,2]))\n",
    "group4_pos3_att = mne.grand_average(list(seq1_attcond_evokeds[:,2,0,2]))\n",
    "group4_pos1_unatt = mne.grand_average(list(seq1_attcond_evokeds[:,0,1,2]))\n",
    "group4_pos3_unatt = mne.grand_average(list(seq1_attcond_evokeds[:,2,1,2]))\n",
    "\n",
    "evokeds_list1 = [group1_pos2_att,group1_pos2_unatt,group1_pos4_att,group1_pos4_unatt]\n",
    "evokeds_list3 = [group3_pos2_att,group3_pos2_unatt,group3_pos4_att,group3_pos4_unatt]\n",
    "evokeds_list4 = [group4_pos1_att,group4_pos1_unatt,group4_pos3_att,group4_pos3_unatt]\n",
    "conds1 = ('att 2','unatt 2','att 4','unatt 4')\n",
    "conds3 = ('att 2','unatt 2','att 4','unatt 4')\n",
    "conds4 = ('att 1','unatt 1','att 3','unatt 3')\n",
    "norm1 = dict(zip(conds1, evokeds_list1))\n",
    "norm3 = dict(zip(conds3, evokeds_list3))\n",
    "norm4 = dict(zip(conds4, evokeds_list4))\n"
   ]
  },
  {
   "cell_type": "code",
   "execution_count": null,
   "metadata": {},
   "outputs": [],
   "source": [
    "\"\"\"\n",
    "prediction v attention effect, 2 in sequence\n",
    "\"\"\"\n",
    "seq2_attpred_evokeds = np.empty((7,4,2,2,3),dtype='object') # [sub,pos,att,pred,group]\n",
    "\n",
    "for i, ep in enumerate(ep_group1):\n",
    "\n",
    "    seq2_attpred_evokeds[i,0,0,0,0] = ep['pos1/seq2'][\"attention == 'attended'\"]['expected == \"regular\"']['precedes_odd == 1'].average()\n",
    "    seq2_attpred_evokeds[i,0,1,0,0] = ep['pos1/seq2'][\"attention == 'unattended'\"]['expected == \"regular\"']['precedes_odd == 1'].average()\n",
    "    seq2_attpred_evokeds[i,0,0,1,0] = ep['pos1/seq2'][\"attention == 'attended'\"]['expected == \"odd\"'].average()\n",
    "    seq2_attpred_evokeds[i,0,1,1,0] = ep['pos1/seq2'][\"attention == 'unattended'\"]['expected == \"odd\"'].average()\n",
    "\n",
    "    seq2_attpred_evokeds[i,2,0,0,0] = ep['pos3/seq2'][\"attention == 'attended'\"]['expected == \"regular\"']['precedes_odd == 1'].average()\n",
    "    seq2_attpred_evokeds[i,2,1,0,0] = ep['pos3/seq2'][\"attention == 'unattended'\"]['expected == \"regular\"']['precedes_odd == 1'].average()\n",
    "    seq2_attpred_evokeds[i,2,0,1,0] = ep['pos3/seq2'][\"attention == 'attended'\"]['expected == \"odd\"'].average()\n",
    "    seq2_attpred_evokeds[i,2,1,1,0] = ep['pos3/seq2'][\"attention == 'unattended'\"]['expected == \"odd\"'].average()\n",
    "\n",
    "for i ,ep in enumerate(ep_group3):\n",
    "\n",
    "    seq2_attpred_evokeds[i,0,0,0,1] = ep['pos1/seq2'][\"attention == 'attended'\"]['expected == \"regular\"']['precedes_odd == 1'].average()\n",
    "    seq2_attpred_evokeds[i,0,1,0,1] = ep['pos1/seq2'][\"attention == 'unattended'\"]['expected == \"regular\"']['precedes_odd == 1'].average()\n",
    "    seq2_attpred_evokeds[i,0,0,1,1] = ep['pos1/seq2'][\"attention == 'attended'\"]['expected == \"odd\"'].average()\n",
    "    seq2_attpred_evokeds[i,0,1,1,1] = ep['pos1/seq2'][\"attention == 'unattended'\"]['expected == \"odd\"'].average()\n",
    "\n",
    "    seq2_attpred_evokeds[i,2,0,0,1] = ep['pos3/seq2'][\"attention == 'attended'\"]['expected == \"regular\"']['precedes_odd == 1'].average()\n",
    "    seq2_attpred_evokeds[i,2,1,0,1] = ep['pos3/seq2'][\"attention == 'unattended'\"]['expected == \"regular\"']['precedes_odd == 1'].average()\n",
    "    seq2_attpred_evokeds[i,2,0,1,1] = ep['pos3/seq2'][\"attention == 'attended'\"]['expected == \"odd\"'].average()\n",
    "    seq2_attpred_evokeds[i,2,1,1,1] = ep['pos3/seq2'][\"attention == 'unattended'\"]['expected == \"odd\"'].average()\n",
    "\n",
    "for i,ep in enumerate(ep_group4):\n",
    "\n",
    "    seq2_attpred_evokeds[i,1,0,0,2] = ep['pos2/seq2'][\"attention == 'attended'\"]['expected == \"regular\"']['precedes_odd == 1'].average()\n",
    "    seq2_attpred_evokeds[i,1,1,0,2] = ep['pos2/seq2'][\"attention == 'unattended'\"]['expected == \"regular\"']['precedes_odd == 1'].average()\n",
    "    seq2_attpred_evokeds[i,1,0,1,2] = ep['pos2/seq2'][\"attention == 'attended'\"]['expected == \"odd\"'].average()\n",
    "    seq2_attpred_evokeds[i,1,1,1,2] = ep['pos2/seq2'][\"attention == 'unattended'\"]['expected == \"odd\"'].average()\n",
    "\n",
    "    seq2_attpred_evokeds[i,3,0,0,2] = ep['pos4/seq2'][\"attention == 'attended'\"]['expected == \"regular\"']['precedes_odd == 1'].average()\n",
    "    seq2_attpred_evokeds[i,3,1,0,2] = ep['pos4/seq2'][\"attention == 'unattended'\"]['expected == \"regular\"']['precedes_odd == 1'].average()\n",
    "    seq2_attpred_evokeds[i,3,0,1,2] = ep['pos4/seq2'][\"attention == 'attended'\"]['expected == \"odd\"'].average()\n",
    "    seq2_attpred_evokeds[i,3,1,1,2] = ep['pos4/seq2'][\"attention == 'unattended'\"]['expected == \"odd\"'].average()"
   ]
  },
  {
   "cell_type": "code",
   "execution_count": null,
   "metadata": {},
   "outputs": [],
   "source": [
    "# group 1\n",
    "evoked_group1_pos1 = [mne.grand_average(list(seq2_attpred_evokeds[:5,0,0,0,0])),\n",
    "                      mne.grand_average(list(seq2_attpred_evokeds[:5,0,0,1,0])),\n",
    "                      mne.grand_average(list(seq2_attpred_evokeds[:5,0,1,0,0])),\n",
    "                      mne.grand_average(list(seq2_attpred_evokeds[:5,0,1,1,0])),\n",
    "]\n",
    "evoked_group1_pos3 = [mne.grand_average(list(seq2_attpred_evokeds[:5,2,0,0,0])),\n",
    "                      mne.grand_average(list(seq2_attpred_evokeds[:5,2,0,1,0])),\n",
    "                      mne.grand_average(list(seq2_attpred_evokeds[:5,2,1,0,0])),\n",
    "                      mne.grand_average(list(seq2_attpred_evokeds[:5,2,1,1,0])),\n",
    "]\n",
    "\n",
    "# group 3\n",
    "evoked_group3_pos1 = [mne.grand_average(list(seq2_attpred_evokeds[:,0,0,0,1])),\n",
    "                      mne.grand_average(list(seq2_attpred_evokeds[:,0,0,1,1])),\n",
    "                      mne.grand_average(list(seq2_attpred_evokeds[:,0,1,0,1])),\n",
    "                      mne.grand_average(list(seq2_attpred_evokeds[:,0,1,1,1])),\n",
    "]\n",
    "evoked_group3_pos3 = [mne.grand_average(list(seq2_attpred_evokeds[:,2,0,0,1])),\n",
    "                      mne.grand_average(list(seq2_attpred_evokeds[:,2,0,1,1])),\n",
    "                      mne.grand_average(list(seq2_attpred_evokeds[:,2,1,0,1])),\n",
    "                      mne.grand_average(list(seq2_attpred_evokeds[:,2,1,1,1])),\n",
    "]\n",
    "\n",
    "# group 4\n",
    "evoked_group4_pos2 = [mne.grand_average(list(seq2_attpred_evokeds[:,1,0,0,2])),\n",
    "                      mne.grand_average(list(seq2_attpred_evokeds[:,1,0,1,2])),\n",
    "                      mne.grand_average(list(seq2_attpred_evokeds[:,1,1,0,2])),\n",
    "                      mne.grand_average(list(seq2_attpred_evokeds[:,1,1,1,2])),\n",
    "]\n",
    "evoked_group4_pos4 = [mne.grand_average(list(seq2_attpred_evokeds[:,3,0,0,2])),\n",
    "                      mne.grand_average(list(seq2_attpred_evokeds[:,3,0,1,2])),\n",
    "                      mne.grand_average(list(seq2_attpred_evokeds[:,3,1,0,2])),\n",
    "                      mne.grand_average(list(seq2_attpred_evokeds[:,3,1,1,2])),\n",
    "]\n",
    "\n",
    "\n",
    "conditions = ('attended regular','unattended regular','attended odd','unattended odd')\n",
    "norm_group_1_pos1 = dict(zip(conditions, evoked_group1_pos1))\n",
    "norm_group_1_pos3 = dict(zip(conditions, evoked_group1_pos3))\n",
    "\n",
    "norm_group_3_pos1 = dict(zip(conditions, evoked_group3_pos1))\n",
    "norm_group_3_pos3 = dict(zip(conditions, evoked_group3_pos3))\n",
    "\n",
    "norm_group_4_pos2 = dict(zip(conditions, evoked_group4_pos2))\n",
    "norm_group_4_pos4 = dict(zip(conditions, evoked_group4_pos4))\n"
   ]
  },
  {
   "cell_type": "code",
   "execution_count": null,
   "metadata": {},
   "outputs": [],
   "source": [
    "freee = seq1_attcond_evokeds[:5,1,0,0]"
   ]
  },
  {
   "cell_type": "code",
   "execution_count": null,
   "metadata": {},
   "outputs": [],
   "source": [
    "\n",
    "n_subjects =len(group_4)\n",
    "n_cols = 3\n",
    "n_rows = (n_subjects + n_cols - 1) // n_cols  # Ceiling division\n",
    "\n",
    "# Create subplots\n",
    "fig, axes = plt.subplots(n_rows, n_cols, figsize=(20, 10))\n",
    "\n",
    "# Flatten the axes array for easy iteration\n",
    "axes = axes.flatten()\n",
    "\n",
    "# Loop over subjects and plot each on a subplot\n",
    "for ax, sub in zip(axes, range(n_subjects)):\n",
    "\n",
    "    evo_set1 = group_4[sub]\n",
    "    mne.viz.plot_compare_evokeds(evo_set1, \n",
    "                                picks= 'POz', \n",
    "                                vlines=[0.05,0.1],\n",
    "                                ylim=dict(eeg=[-10, 10]),\n",
    "                                show=True,\n",
    "                                axes = ax,\n",
    "                                title= f'sub {group_4_pp[sub]}')\n",
    "    # mne.viz.plot_compare_evokeds(epoch_set1, picks= 'Pz', vlines=[0.05,0.1],ylim=dict(eeg=[-10, 10]), title= f'sub {sub}')\n",
    "plt.tight_layout\n",
    "plt.show"
   ]
  },
  {
   "cell_type": "code",
   "execution_count": null,
   "metadata": {},
   "outputs": [],
   "source": [
    "subject = evo_set1['att reg'].metadata['participant'].unique()[0] "
   ]
  },
  {
   "cell_type": "code",
   "execution_count": null,
   "metadata": {},
   "outputs": [],
   "source": [
    "epoch_set1 = norm_group_1_pos1\n",
    "mne.viz.plot_compare_evokeds(epoch_set1, picks= 'C1', vlines=[0.05,0.1],ylim=dict(eeg=[-10, 10]))\n",
    "mne.viz.plot_compare_evokeds(epoch_set1, picks= 'C2', vlines=[0.05,0.1],ylim=dict(eeg=[-10, 10]))\n",
    "mne.viz.plot_compare_evokeds(epoch_set1, picks= 'Cz', vlines=[0.05,0.1],ylim=dict(eeg=[-10, 10]))\n"
   ]
  },
  {
   "cell_type": "code",
   "execution_count": null,
   "metadata": {},
   "outputs": [],
   "source": [
    "mne.viz.plot_compare_evokeds(epoch_set1, picks= 'C1', vlines=[0.05,0.1],ylim=dict(eeg=[-10, 10]))\n",
    "mne.viz.plot_compare_evokeds(epoch_set1, picks= 'C2', vlines=[0.05,0.1],ylim=dict(eeg=[-10, 10]))\n",
    "mne.viz.plot_compare_evokeds(epoch_set1, picks= 'Cz', vlines=[0.05,0.1],ylim=dict(eeg=[-10, 10]))\n",
    "\n",
    "mne.viz.plot_compare_evokeds(epoch_set1, picks= 'P1', vlines=[0.05,0.1],ylim=dict(eeg=[-10, 10]))\n",
    "mne.viz.plot_compare_evokeds(epoch_set1, picks= 'P2', vlines=[0.05,0.1],ylim=dict(eeg=[-10, 10]))\n",
    "mne.viz.plot_compare_evokeds(epoch_set1, picks= 'Pz', vlines=[0.05,0.1],ylim=dict(eeg=[-10, 10]))\n",
    "\n",
    "mne.viz.plot_compare_evokeds(epoch_set1, picks= 'PO3', vlines=[0.05,0.1],ylim=dict(eeg=[-10, 10]))\n",
    "mne.viz.plot_compare_evokeds(epoch_set1, picks= 'PO4', vlines=[0.05,0.1],ylim=dict(eeg=[-10, 10]))\n",
    "mne.viz.plot_compare_evokeds(epoch_set1, picks= 'POz', vlines=[0.05,0.1],ylim=dict(eeg=[-10, 10]))\n",
    "\n",
    "mne.viz.plot_compare_evokeds(epoch_set1, picks= 'O1', vlines=[0.05,0.1],ylim=dict(eeg=[-10, 10]))\n",
    "mne.viz.plot_compare_evokeds(epoch_set1, picks= 'O2', vlines=[0.05,0.1],ylim=dict(eeg=[-10, 10]))\n",
    "mne.viz.plot_compare_evokeds(epoch_set1, picks= 'Oz', vlines=[0.05,0.1],ylim=dict(eeg=[-10, 10]))"
   ]
  },
  {
   "cell_type": "code",
   "execution_count": null,
   "metadata": {},
   "outputs": [],
   "source": [
    "mne.viz.plot_compare_evokeds(epoch_set1, picks= 'O1', vlines=[0.05,0.1],ylim=dict(eeg=[-6, 6]))\n",
    "mne.viz.plot_compare_evokeds(epoch_set1, picks= 'O2', vlines=[0.05,0.1],ylim=dict(eeg=[-6, 6]))"
   ]
  },
  {
   "cell_type": "code",
   "execution_count": null,
   "metadata": {},
   "outputs": [],
   "source": [
    "# mne.viz.plot_compare_evokeds(epoch_set1, picks= 'P1', vlines=[0.05,0.1],ylim=dict(eeg=[-6, 6]))\n",
    "mne.viz.plot_compare_evokeds(epoch_set1, picks= 'P2', vlines=[0.05,0.1],ylim=dict(eeg=[-6, 6]))"
   ]
  },
  {
   "cell_type": "code",
   "execution_count": null,
   "metadata": {},
   "outputs": [],
   "source": [
    "# mne.viz.plot_compare_evokeds(epoch_set1, picks= 'PO2', vlines=[0.05,0.1],ylim=dict(eeg=[-10, 10]))\n",
    "mne.viz.plot_compare_evokeds(epoch_set1, picks= 'PO3', vlines=[0.05,0.1],ylim=dict(eeg=[-10, 10]))"
   ]
  },
  {
   "cell_type": "code",
   "execution_count": null,
   "metadata": {},
   "outputs": [],
   "source": [
    "mne.viz.plot_compare_evokeds(epoch_set1, picks= 'Fz', vlines=[0.05,0.1],ylim=dict(eeg=[-6, 6]))\n",
    "mne.viz.plot_compare_evokeds(epoch_set1, picks= 'FCz', vlines=[0.05,0.1],ylim=dict(eeg=[-6, 6]))"
   ]
  },
  {
   "cell_type": "code",
   "execution_count": null,
   "metadata": {},
   "outputs": [],
   "source": [
    "\"\"\"\n",
    "\n",
    "\"\"\"\n",
    "times = np.linspace(0.03, 0.15, 7)\n",
    "vlim=(-6, 6)\n",
    "\n",
    "evoked_pos1.plot_topomap(ch_type=\"eeg\", times=times, colorbar=True, vlim=vlim)\n",
    "evoked_pos2.plot_topomap(ch_type=\"eeg\", times=times, colorbar=True, vlim=vlim)\n",
    "evoked_pos3.plot_topomap(ch_type=\"eeg\", times=times, colorbar=True, vlim=vlim)\n",
    "evoked_pos4.plot_topomap(ch_type=\"eeg\", times=times, colorbar=True, vlim=vlim)"
   ]
  },
  {
   "cell_type": "code",
   "execution_count": null,
   "metadata": {},
   "outputs": [],
   "source": [
    "times = np.linspace(0.05, 0.11, 5)\n",
    "group4_pos1_unatt.plot_topomap(ch_type=\"eeg\", times=times, colorbar=True)\n",
    "group4_pos3_att.plot_topomap(ch_type=\"eeg\", times=times, colorbar=True)\n",
    "group4_pos1_unatt.plot_topomap(ch_type=\"eeg\", times=times, colorbar=True)\n",
    "group4_pos3_att.plot_topomap(ch_type=\"eeg\", times=times, colorbar=True)"
   ]
  },
  {
   "cell_type": "markdown",
   "metadata": {},
   "source": [
    "### Time course of c1 peaks and means"
   ]
  },
  {
   "cell_type": "code",
   "execution_count": null,
   "metadata": {},
   "outputs": [],
   "source": [
    "\"\"\" \n",
    "Time course first sequence position\n",
    "\"\"\"\n",
    "# attended\n",
    "ep_df_att_1 = ep_att_1.metadata\n",
    "ep_df_att_1['poz_c1_mean'] = ep_att_1.crop(tmin=.07, tmax=.1).get_data(picks='POz').mean(axis=2)\n",
    "ep_df_att_2 = ep_att_2.metadata\n",
    "ep_df_att_2['poz_c1_mean'] = ep_att_2.crop(tmin=.07, tmax=.1).get_data(picks='POz').mean(axis=2)\n",
    "ep_df_att_3 = ep_att_3.metadata\n",
    "ep_df_att_3['poz_c1_mean'] = ep_att_3.crop(tmin=.07, tmax=.1).get_data(picks='POz').mean(axis=2)\n",
    "ep_df_att_4 = ep_att_4.metadata\n",
    "ep_df_att_4['poz_c1_mean'] = ep_att_4.crop(tmin=.07, tmax=.1).get_data(picks='POz').mean(axis=2)\n",
    "# unattend\n",
    "ep_df_unatt_1= ep_unatt_1.metadata\n",
    "ep_df_unatt_1['poz_c1_mean'] = ep_unatt_1.crop(tmin=.07, tmax=.1).get_data(picks='POz').mean(axis=2)\n",
    "ep_df_unatt_2 = ep_unatt_2.metadata\n",
    "ep_df_unatt_2['poz_c1_mean'] = ep_unatt_2.crop(tmin=.07, tmax=.1).get_data(picks='POz').mean(axis=2)\n",
    "ep_df_unatt_3 = ep_unatt_3.metadata\n",
    "ep_df_unatt_3['poz_c1_mean'] = ep_unatt_3.crop(tmin=.07, tmax=.1).get_data(picks='POz').mean(axis=2)\n",
    "ep_df_unatt_4 = ep_unatt_4.metadata\n",
    "ep_df_unatt_4['poz_c1_mean'] = ep_unatt_4.crop(tmin=.07, tmax=.1).get_data(picks='POz').mean(axis=2)\n"
   ]
  },
  {
   "cell_type": "code",
   "execution_count": null,
   "metadata": {},
   "outputs": [],
   "source": [
    "\"\"\" \n",
    "Time course\n",
    "\"\"\"\n",
    "position = ['pos1','pos2','pos3','pos4']\n",
    "condition = 'attention == \"attended\" & expected == \"regular\" & start_position == 2'\n",
    "pos1_win_data = c1_window_epochs[condition][position[0]].get_data(picks='POz')\n",
    "pos2_win_data = c1_window_epochs[condition][position[1]].get_data(picks='POz')\n",
    "pos3_win_data = c1_window_epochs[condition][position[2]].get_data(picks='POz')\n",
    "pos4_win_data = c1_window_epochs[condition][position[3]].get_data(picks='POz')"
   ]
  },
  {
   "cell_type": "code",
   "execution_count": null,
   "metadata": {},
   "outputs": [],
   "source": []
  },
  {
   "cell_type": "code",
   "execution_count": null,
   "metadata": {},
   "outputs": [],
   "source": [
    "mean_c1_1 = pos1_win_data.mean(axis=2).squeeze()\n",
    "mean_c1_2 = pos2_win_data.mean(axis=2).squeeze()\n",
    "mean_c1_3 = pos3_win_data.mean(axis=2).squeeze()\n",
    "mean_c1_4 = pos4_win_data.mean(axis=2).squeeze()\n",
    "\n",
    "max_c1_1 = pos1_win_data.max(axis=2).squeeze()\n",
    "max_c1_2 = pos2_win_data.max(axis=2).squeeze()\n",
    "max_c1_3 = pos3_win_data.max(axis=2).squeeze()\n",
    "max_c1_4 = pos4_win_data.max(axis=2).squeeze()\n",
    "\n",
    "mean_c1_list = [mean_c1_1,mean_c1_2,mean_c1_3,mean_c1_4]\n",
    "max_c1_list = [max_c1_1,max_c1_2,max_c1_3,max_c1_4]"
   ]
  },
  {
   "cell_type": "code",
   "execution_count": null,
   "metadata": {},
   "outputs": [],
   "source": [
    "\"\"\"\n",
    "Plotting mean c1 voltage time wise\n",
    "\"\"\"\n",
    "plt.rcParams[\"figure.figsize\"] = [18,10]\n",
    "fig, axs = plt.subplots(4,2, sharey=True)\n",
    "\n",
    "sns.regplot(data = ep_df_att_1, x = 'trial', y = 'poz_c1_mean', ax = axs[0,0],scatter_kws={'s': 10, 'color': 'red'})\n",
    "sns.regplot(data = ep_df_unatt_1, x = 'trial', y = 'poz_c1_mean', ax = axs[1,0],scatter_kws={'s': 10, 'color': 'green'})\n",
    "sns.regplot(data = ep_df_att_2, x = 'trial', y = 'poz_c1_mean', ax = axs[0,1],scatter_kws={'s': 10, 'color': 'red'})\n",
    "sns.regplot(data = ep_df_unatt_2, x = 'trial', y = 'poz_c1_mean', ax = axs[1,1],scatter_kws={'s': 10, 'color': 'green'})\n",
    "sns.regplot(data = ep_df_att_3, x = 'trial', y = 'poz_c1_mean', ax = axs[2,1],scatter_kws={'s': 10, 'color': 'red'})\n",
    "sns.regplot(data = ep_df_unatt_3, x = 'trial', y = 'poz_c1_mean', ax = axs[3,1],scatter_kws={'s': 10, 'color': 'green'})\n",
    "sns.regplot(data = ep_df_att_4, x = 'trial', y = 'poz_c1_mean', ax = axs[2,0],scatter_kws={'s': 10, 'color': 'red'})\n",
    "sns.regplot(data = ep_df_unatt_4, x = 'trial', y = 'poz_c1_mean', ax = axs[3,0],scatter_kws={'s': 10, 'color': 'green'})\n",
    "plt.tight_layout()\n",
    "plt.show()\n",
    "# sns.regplot(x = np.arange(len(mean_c1_list[1])), y = mean_c1_list[1], ax=axs[0,1])\n",
    "# sns.regplot(x = np.arange(len(mean_c1_list[2])), y = mean_c1_list[2], ax=axs[1,1])\n",
    "# sns.regplot(x = np.arange(len(mean_c1_list[3])), y = mean_c1_list[3], ax=axs[1,0])\n",
    "\n"
   ]
  },
  {
   "cell_type": "code",
   "execution_count": null,
   "metadata": {},
   "outputs": [],
   "source": [
    "\"\"\"\n",
    "Plotting max c1 voltage time wise\n",
    "\"\"\"\n",
    "plt.rcParams[\"figure.figsize\"] = [18,10]\n",
    "fig, axs = plt.subplots(2,2, sharey=True)\n",
    "\n",
    "sns.regplot(x = np.arange(len(max_c1_list[0])), y = max_c1_list[0], ax=axs[0,0])\n",
    "sns.regplot(x = np.arange(len(max_c1_list[1])), y = max_c1_list[1], ax=axs[0,1])\n",
    "sns.regplot(x = np.arange(len(max_c1_list[2])), y = max_c1_list[2], ax=axs[1,1])\n",
    "sns.regplot(x = np.arange(len(max_c1_list[3])), y = max_c1_list[3], ax=axs[1,0])\n",
    "\n",
    "plt.suptitle('max values '+ condition)\n",
    "plt.tight_layout()\n",
    "plt.show()"
   ]
  },
  {
   "cell_type": "markdown",
   "metadata": {},
   "source": [
    "### Time frequency exploration"
   ]
  },
  {
   "cell_type": "code",
   "execution_count": null,
   "metadata": {},
   "outputs": [],
   "source": [
    "spec_first_att = epochs_attended['pos4/seq2'].average().compute_psd()\n",
    "spec_last_att = epochs_attended['seq3'].average().compute_psd()\n",
    "spec_first_unatt = epochs_unattended['seq1'].average().compute_psd()\n",
    "spec_last_unatt = epochs_unattended['seq3'].average().compute_psd()"
   ]
  },
  {
   "cell_type": "code",
   "execution_count": null,
   "metadata": {},
   "outputs": [],
   "source": [
    "spec_first_att.plot_topomap(ch_type=\"eeg\")\n",
    "spec_first_unatt.plot_topomap(ch_type=\"eeg\")"
   ]
  },
  {
   "cell_type": "code",
   "execution_count": null,
   "metadata": {},
   "outputs": [],
   "source": [
    "freqs = np.logspace(*np.log10([8, 13]), num=8)\n",
    "n_cycles = freqs / 3.0  # different number of cycle per frequency\n",
    "power, itc = tfr_morlet(\n",
    "    epochs_attended['pos4/seq2'],\n",
    "    freqs=freqs,\n",
    "    n_cycles=n_cycles,\n",
    "    use_fft=True,\n",
    "    return_itc=True,\n",
    "    n_jobs=None,\n",
    ")"
   ]
  },
  {
   "cell_type": "code",
   "execution_count": null,
   "metadata": {},
   "outputs": [],
   "source": [
    "\n",
    "power.plot([27], baseline=(-0.09, 0), mode=\"logratio\", title=power.ch_names[27])\n",
    "\n",
    "fig, axes = plt.subplots(1, 2, figsize=(7, 4), layout=\"constrained\")\n",
    "topomap_kw = dict(\n",
    "    ch_type=\"eeg\", tmin=0.09, tmax=0.5, baseline=(-0.09, 0), mode=\"logratio\", show=False\n",
    ")\n",
    "plot_dict = dict(Alpha=dict(fmin=8, fmax=13))\n",
    "for ax, (title, fmin_fmax) in zip(axes, plot_dict.items()):\n",
    "    power.plot_topomap(**fmin_fmax, axes=ax, **topomap_kw)\n",
    "    ax.set_title(title)"
   ]
  }
 ],
 "metadata": {
  "kernelspec": {
   "display_name": "Python 3",
   "language": "python",
   "name": "python3"
  },
  "language_info": {
   "codemirror_mode": {
    "name": "ipython",
    "version": 3
   },
   "file_extension": ".py",
   "mimetype": "text/x-python",
   "name": "python",
   "nbconvert_exporter": "python",
   "pygments_lexer": "ipython3",
   "version": "3.9.18"
  }
 },
 "nbformat": 4,
 "nbformat_minor": 2
}
