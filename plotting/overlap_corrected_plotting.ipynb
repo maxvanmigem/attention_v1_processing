{
 "cells": [
  {
   "cell_type": "code",
   "execution_count": 1,
   "metadata": {},
   "outputs": [],
   "source": [
    "import random\n",
    "import mne, os, glob\n",
    "import numpy as np\n",
    "import pandas as pd\n",
    "import seaborn as sns\n",
    "from matplotlib import pyplot as plt\n",
    "import random\n",
    "%matplotlib qt "
   ]
  },
  {
   "cell_type": "code",
   "execution_count": 2,
   "metadata": {},
   "outputs": [
    {
     "data": {
      "text/html": [
       "<svg  width=\"550\" height=\"55\"><rect x=\"0\" y=\"0\" width=\"55\" height=\"55\" style=\"fill:#1f77b4;stroke-width:2;stroke:rgb(255,255,255)\"/><rect x=\"55\" y=\"0\" width=\"55\" height=\"55\" style=\"fill:#ff7f0e;stroke-width:2;stroke:rgb(255,255,255)\"/><rect x=\"110\" y=\"0\" width=\"55\" height=\"55\" style=\"fill:#2ca02c;stroke-width:2;stroke:rgb(255,255,255)\"/><rect x=\"165\" y=\"0\" width=\"55\" height=\"55\" style=\"fill:#d62728;stroke-width:2;stroke:rgb(255,255,255)\"/><rect x=\"220\" y=\"0\" width=\"55\" height=\"55\" style=\"fill:#9467bd;stroke-width:2;stroke:rgb(255,255,255)\"/><rect x=\"275\" y=\"0\" width=\"55\" height=\"55\" style=\"fill:#8c564b;stroke-width:2;stroke:rgb(255,255,255)\"/><rect x=\"330\" y=\"0\" width=\"55\" height=\"55\" style=\"fill:#e377c2;stroke-width:2;stroke:rgb(255,255,255)\"/><rect x=\"385\" y=\"0\" width=\"55\" height=\"55\" style=\"fill:#7f7f7f;stroke-width:2;stroke:rgb(255,255,255)\"/><rect x=\"440\" y=\"0\" width=\"55\" height=\"55\" style=\"fill:#bcbd22;stroke-width:2;stroke:rgb(255,255,255)\"/><rect x=\"495\" y=\"0\" width=\"55\" height=\"55\" style=\"fill:#17becf;stroke-width:2;stroke:rgb(255,255,255)\"/></svg>"
      ],
      "text/plain": [
       "['#1f77b4',\n",
       " '#ff7f0e',\n",
       " '#2ca02c',\n",
       " '#d62728',\n",
       " '#9467bd',\n",
       " '#8c564b',\n",
       " '#e377c2',\n",
       " '#7f7f7f',\n",
       " '#bcbd22',\n",
       " '#17becf']"
      ]
     },
     "execution_count": 2,
     "metadata": {},
     "output_type": "execute_result"
    }
   ],
   "source": [
    "\"\"\"\n",
    "***Aestetics***\n",
    "\"\"\"\n",
    "# load color palette\n",
    "my_palette = sns.color_palette().as_hex()\n",
    "sns.color_palette().as_hex()"
   ]
  },
  {
   "cell_type": "code",
   "execution_count": 10,
   "metadata": {},
   "outputs": [],
   "source": [
    "\"\"\" \n",
    "Load files\n",
    "\"\"\"\n",
    "\n",
    "var_el_path = \"C:/Users/mvmigem/Documents/data/project_1/overlap_corrected/variable-electrode/\"\n",
    "fix_el_path = \"C:/Users/mvmigem/Documents/data/project_1/overlap_corrected/fixed-electrode/\"\n",
    "\n",
    "var_dir_list = glob.glob(var_el_path+'/*.csv')\n",
    "fix_dir_list = glob.glob(fix_el_path+'/*.csv')\n",
    "excuded_pp = [3,14,20]\n",
    "subject_list = []\n",
    "\n",
    "for i in var_dir_list:\n",
    "    sub = int(i.split('corrected_evoked_')[1].split('.csv')[0])\n",
    "    if sub not in excuded_pp:\n",
    "        subject_list.append(sub)\n",
    "\n",
    "# Create big df for each var and fix set of rERP's\n",
    "var_loaded_dfs = []\n",
    "fix_loaded_dfs = []\n",
    "\n",
    "for var_p,fix_p in zip(var_dir_list,fix_dir_list):\n",
    "    var_rerp_df = pd.read_csv(var_p)\n",
    "    var_loaded_dfs.append(var_rerp_df)\n",
    "    fix_rerp_df = pd.read_csv(fix_p)\n",
    "    fix_loaded_dfs.append(fix_rerp_df)\n",
    "\n",
    "var_df = pd.concat(var_loaded_dfs,ignore_index=True)\n",
    "fix_df = pd.concat(fix_loaded_dfs,ignore_index=True)\n",
    "var_df['visual_field'] = np.where(var_df['position'].isin([1,2]),'up','down')\n",
    "fix_df['visual_field'] = np.where(fix_df['position'].isin([1,2]),'up','down')\n"
   ]
  },
  {
   "cell_type": "code",
   "execution_count": 27,
   "metadata": {},
   "outputs": [],
   "source": [
    "\"\"\" \n",
    "basline correction\n",
    "\"\"\"\n",
    "baseline_period = var_df['time'] <0\n",
    "baseline_means = var_df[baseline_period].groupby(['subject','attention','expectation','visual_field'])['yhat'].mean()\n",
    "\n",
    "var_df['baseline_corrected'] = var_df.apply(\n",
    "    lambda row: row['yhat'] - baseline_means[(row['subject'], row['attention'], row['expectation'],row['visual_field'])],\n",
    "    axis=1\n",
    ")\n"
   ]
  },
  {
   "cell_type": "code",
   "execution_count": 32,
   "metadata": {},
   "outputs": [],
   "source": [
    "fig, axes = plt.subplots()\n",
    "\n",
    "sns.lineplot(data=var_df[var_df['visual_field']=='down'],x='time',y='baseline_corrected',hue='attention',style='expectation')\n",
    "plt.show()"
   ]
  }
 ],
 "metadata": {
  "kernelspec": {
   "display_name": "mne",
   "language": "python",
   "name": "python3"
  },
  "language_info": {
   "codemirror_mode": {
    "name": "ipython",
    "version": 3
   },
   "file_extension": ".py",
   "mimetype": "text/x-python",
   "name": "python",
   "nbconvert_exporter": "python",
   "pygments_lexer": "ipython3",
   "version": "3.9.18"
  }
 },
 "nbformat": 4,
 "nbformat_minor": 2
}
