{
 "cells": [
  {
   "cell_type": "code",
   "execution_count": 1,
   "metadata": {},
   "outputs": [],
   "source": [
    "import glob\n",
    "import numpy as np\n",
    "import pandas as pd\n",
    "import seaborn as sns\n",
    "from matplotlib import pyplot as plt\n",
    "%matplotlib qt "
   ]
  },
  {
   "cell_type": "code",
   "execution_count": 2,
   "metadata": {},
   "outputs": [
    {
     "data": {
      "text/html": [
       "<svg  width=\"550\" height=\"55\"><rect x=\"0\" y=\"0\" width=\"55\" height=\"55\" style=\"fill:#1f77b4;stroke-width:2;stroke:rgb(255,255,255)\"/><rect x=\"55\" y=\"0\" width=\"55\" height=\"55\" style=\"fill:#ff7f0e;stroke-width:2;stroke:rgb(255,255,255)\"/><rect x=\"110\" y=\"0\" width=\"55\" height=\"55\" style=\"fill:#2ca02c;stroke-width:2;stroke:rgb(255,255,255)\"/><rect x=\"165\" y=\"0\" width=\"55\" height=\"55\" style=\"fill:#d62728;stroke-width:2;stroke:rgb(255,255,255)\"/><rect x=\"220\" y=\"0\" width=\"55\" height=\"55\" style=\"fill:#9467bd;stroke-width:2;stroke:rgb(255,255,255)\"/><rect x=\"275\" y=\"0\" width=\"55\" height=\"55\" style=\"fill:#8c564b;stroke-width:2;stroke:rgb(255,255,255)\"/><rect x=\"330\" y=\"0\" width=\"55\" height=\"55\" style=\"fill:#e377c2;stroke-width:2;stroke:rgb(255,255,255)\"/><rect x=\"385\" y=\"0\" width=\"55\" height=\"55\" style=\"fill:#7f7f7f;stroke-width:2;stroke:rgb(255,255,255)\"/><rect x=\"440\" y=\"0\" width=\"55\" height=\"55\" style=\"fill:#bcbd22;stroke-width:2;stroke:rgb(255,255,255)\"/><rect x=\"495\" y=\"0\" width=\"55\" height=\"55\" style=\"fill:#17becf;stroke-width:2;stroke:rgb(255,255,255)\"/></svg>"
      ],
      "text/plain": [
       "['#1f77b4',\n",
       " '#ff7f0e',\n",
       " '#2ca02c',\n",
       " '#d62728',\n",
       " '#9467bd',\n",
       " '#8c564b',\n",
       " '#e377c2',\n",
       " '#7f7f7f',\n",
       " '#bcbd22',\n",
       " '#17becf']"
      ]
     },
     "execution_count": 2,
     "metadata": {},
     "output_type": "execute_result"
    }
   ],
   "source": [
    "\"\"\"\n",
    "***Aestetics***\n",
    "\"\"\"\n",
    "# load color palette\n",
    "my_palette = sns.color_palette().as_hex()\n",
    "sns.color_palette().as_hex()"
   ]
  },
  {
   "cell_type": "code",
   "execution_count": 31,
   "metadata": {},
   "outputs": [],
   "source": [
    "\"\"\" \n",
    "Load files\n",
    "\"\"\"\n",
    "el_1 = \"PO4\"\n",
    "el_2 = \"PO3\"\n",
    "el_3 = \"PO8\"\n",
    "el_4 = \"PO7\"\n",
    "# el_2_path = \"C:/Users/mvmigem/Documents/data/project_1/overlap_corrected/variable-electrode/\"\n",
    "el_1_path = f\"C:/Users/mvmigem/Documents/data/project_1/overlap_corrected/{el_1}/\"\n",
    "el_2_path = f\"C:/Users/mvmigem/Documents/data/project_1/overlap_corrected/{el_2}/\"\n",
    "el_3_path = f\"C:/Users/mvmigem/Documents/data/project_1/overlap_corrected/{el_3}/\"\n",
    "el_4_path = f\"C:/Users/mvmigem/Documents/data/project_1/overlap_corrected/{el_4}/\"\n",
    "\n",
    "el_1_dir_list = glob.glob(el_1_path+'/*.csv')\n",
    "el_2_dir_list = glob.glob(el_2_path+'/*.csv')\n",
    "el_3_dir_list = glob.glob(el_3_path+'/*.csv')\n",
    "el_4_dir_list = glob.glob(el_4_path+'/*.csv')\n",
    "excuded_pp = [3,14,20]\n",
    "subject_list = []\n",
    "\n",
    "for i in el_1_dir_list:\n",
    "    sub = int(i.split(f'corrected_{el_1}_evoked_')[1].split('.csv')[0])\n",
    "    if sub not in excuded_pp:\n",
    "        subject_list.append(sub)\n",
    "\n",
    "# Create big df for each var and fix set of rERP's\n",
    "el_1_loaded_dfs = []\n",
    "el_2_loaded_dfs = []\n",
    "el_3_loaded_dfs = []\n",
    "el_4_loaded_dfs = []\n",
    "\n",
    "for el1_p,el2_p,el3_p,el4_p in zip(el_1_dir_list,el_2_dir_list,el_3_dir_list,el_4_dir_list):\n",
    "    el_1_rerp_df = pd.read_csv(el1_p)\n",
    "    el_1_loaded_dfs.append(el_1_rerp_df)\n",
    "    el_2_rerp_df = pd.read_csv(el2_p)\n",
    "    el_2_loaded_dfs.append(el_2_rerp_df)\n",
    "    el_3_rerp_df = pd.read_csv(el3_p)\n",
    "    el_3_loaded_dfs.append(el_3_rerp_df)\n",
    "    el_4_rerp_df = pd.read_csv(el4_p)\n",
    "    el_4_loaded_dfs.append(el_4_rerp_df)\n",
    "\n",
    "df_1 = pd.concat(el_1_loaded_dfs,ignore_index=True)\n",
    "df_2 = pd.concat(el_2_loaded_dfs,ignore_index=True)\n",
    "df_3 = pd.concat(el_3_loaded_dfs,ignore_index=True)\n",
    "df_4 = pd.concat(el_4_loaded_dfs,ignore_index=True)\n",
    "\n",
    "df_1['visual_field'] = np.where(df_1['position'].isin([1,2]),'up','down')\n",
    "df_2['visual_field'] = np.where(df_2['position'].isin([1,2]),'up','down')\n",
    "df_3['visual_field'] = np.where(df_3['position'].isin([1,2]),'up','down')\n",
    "df_4['visual_field'] = np.where(df_4['position'].isin([1,2]),'up','down')\n",
    "\n",
    "df_1 = df_1[df_1['time'] < .5]\n",
    "df_2 = df_2[df_2['time'] < .5]\n",
    "df_3 = df_3[df_3['time'] < .5]\n",
    "df_4 = df_4[df_4['time'] < .5]\n",
    "\n",
    "df_1.reset_index(inplace=True)\n",
    "df_2.reset_index(inplace=True)\n",
    "df_3.reset_index(inplace=True)\n",
    "df_4.reset_index(inplace=True)\n"
   ]
  },
  {
   "cell_type": "code",
   "execution_count": 34,
   "metadata": {},
   "outputs": [],
   "source": [
    "\"\"\" \n",
    "baseline correction\n",
    "\"\"\"\n",
    "for df in [df_1,df_2,df_3,df_4]:\n",
    "    baseline_period = df['time'] <0\n",
    "    baseline_means = df[baseline_period].groupby(['subject','attention','expectation','visual_field'])['yhat'].mean()\n",
    "\n",
    "    df['baseline_corrected'] = df.apply(\n",
    "        lambda row: row['yhat'] - baseline_means[(row['subject'], row['attention'], row['expectation'],row['visual_field'])],\n",
    "        axis=1\n",
    "    )\n",
    "    # Correct dataframe for subjects 8 and 9 having truncated datasets (lost trials)\n",
    "    df.loc[(df['subject'] == 9) & (df['attention'] == 'attended') & (df['expectation'] == 'odd'), \n",
    "        ['yhat', 'baseline_corrected']] = np.nan\n",
    "    df.loc[(df['subject'] == 9) & (df['attention'] == 'attended') & (df['expectation'] == 'regular'), \n",
    "        ['yhat', 'baseline_corrected']] = np.nan\n",
    "    df.loc[(df_1['subject'] == 8) & (df['attention'] == 'attended') & (df['expectation'] == 'regular'), \n",
    "        ['yhat', 'baseline_corrected']] = np.nan\n",
    "    df.loc[(df['subject'] == 8) & (df['attention'] == 'attended') & (df['expectation'] == 'odd'), \n",
    "        ['yhat', 'baseline_corrected']] = np.nan"
   ]
  },
  {
   "cell_type": "code",
   "execution_count": 30,
   "metadata": {},
   "outputs": [],
   "source": [
    "fig, axes = plt.subplots(2,2,figsize=(16, 10),sharey=True,sharex=True)\n",
    "\n",
    "sns.lineplot(data=df_1,\n",
    "             x='time',y='baseline_corrected',\n",
    "             hue='attention',style='expectation',\n",
    "             errorbar='se',ax=axes[0,0])\n",
    "sns.lineplot(data=df_1[df_1['visual_field']=='up'],\n",
    "             x='time',y='baseline_corrected',\n",
    "             hue='attention',style='expectation',\n",
    "             errorbar='se', ax = axes[1,0])\n",
    "sns.lineplot(data=df_2,\n",
    "             x='time',y='baseline_corrected',\n",
    "             hue='attention',style='expectation',\n",
    "             errorbar='se',ax=axes[0,1])\n",
    "sns.lineplot(data=df_2[df_2['visual_field']=='up'],\n",
    "             x='time',y='baseline_corrected',\n",
    "             hue='attention',style='expectation',\n",
    "             errorbar='se', ax = axes[1,1])\n",
    "axes[0,0].set_title(f'{el_1}')\n",
    "axes[0,1].set_title(f'{el_2}')\n",
    "plt.tight_layout()\n",
    "plt.show()"
   ]
  },
  {
   "cell_type": "code",
   "execution_count": null,
   "metadata": {},
   "outputs": [],
   "source": [
    "\"\"\" \n",
    "Select the C1 to analyse\n",
    "\"\"\"\n",
    "##  C1 time window\n",
    "# Window search\n",
    "c1_tmin = 0.06\n",
    "c1_tmax = 0.09\n",
    "c1_timwid = 0.015\n",
    "c1_sampwid = int(c1_timwid*512)\n",
    "for df in [df_1,df_2,df_3,df_4]:\n",
    "# Find indices of df with peak in window DF 1\n",
    "slect = df_1[(df_1['time']>c1_tmin) & (df_1['time']<c1_tmax)]\n",
    "slect['abs_corr'] = slect['baseline_corrected'].abs()\n",
    "maxidx_c1 = np.array(slect.groupby(['subject','attention','expectation','visual_field'])['abs_corr'].idxmax())\n",
    "maxidx_c1 = maxidx_c1[~np.isnan(maxidx_c1)]\n",
    "maxidx_c1 = maxidx_c1.astype(int)\n",
    "# Select window around it\n",
    "winidx_c1 =[]\n",
    "for i, idx in enumerate(maxidx_c1):\n",
    "    win_li = np.arange(idx - c1_sampwid, idx + c1_sampwid +1)\n",
    "    winidx_c1 = np.concatenate([winidx_c1,win_li],axis=0)\n",
    "\n",
    "# Apply to df\n",
    "c1_win_df_1 = df_1.iloc[winidx_c1]\n",
    "c1_means_df_1 = c1_win_df_1.groupby(['subject','attention','expectation','visual_field'])['baseline_corrected'].mean().reset_index()\n",
    "\n",
    "\n",
    "# Apply to df\n",
    "c1_win_df_2 = df_2.iloc[winidx_c1]\n",
    "c1_means_df_2 = c1_win_df_2.groupby(['subject','attention','expectation','visual_field'])['baseline_corrected'].mean().reset_index()"
   ]
  },
  {
   "cell_type": "code",
   "execution_count": null,
   "metadata": {},
   "outputs": [],
   "source": [
    "\"\"\" \n",
    "Select P3 to analyse\n",
    "\"\"\"\n",
    "\n"
   ]
  },
  {
   "cell_type": "code",
   "execution_count": null,
   "metadata": {},
   "outputs": [],
   "source": [
    "destination_folder = r\"C:\\Users\\mvmigem\\Documents\\data\\project_1\\compiled_dataframes/\"\n",
    "c1_means_df_2.to_csv(destination_folder + \"c1_oc_var_df.csv\")"
   ]
  }
 ],
 "metadata": {
  "kernelspec": {
   "display_name": "mne",
   "language": "python",
   "name": "python3"
  },
  "language_info": {
   "codemirror_mode": {
    "name": "ipython",
    "version": 3
   },
   "file_extension": ".py",
   "mimetype": "text/x-python",
   "name": "python",
   "nbconvert_exporter": "python",
   "pygments_lexer": "ipython3",
   "version": "3.9.18"
  }
 },
 "nbformat": 4,
 "nbformat_minor": 2
}
